{
 "metadata": {
  "language_info": {
   "codemirror_mode": {
    "name": "ipython",
    "version": 3
   },
   "file_extension": ".py",
   "mimetype": "text/x-python",
   "name": "python",
   "nbconvert_exporter": "python",
   "pygments_lexer": "ipython3",
   "version": "3.6.9-final"
  },
  "orig_nbformat": 2,
  "kernelspec": {
   "name": "python3",
   "display_name": "Python 3",
   "language": "python"
  }
 },
 "nbformat": 4,
 "nbformat_minor": 2,
 "cells": [
  {
   "source": [
    "## Movie recommender system with document similarity ##"
   ],
   "cell_type": "markdown",
   "metadata": {}
  },
  {
   "source": [
    "Movie recommender systems can be implemented in three ways,\n",
    "\n",
    "1. Simple-rule based recommenders - Based on some specific global metrics and thresholds like movie popularity,global ratings etc.\n",
    "2. Content based  recommenders - Based on providing similar entities. Content meta data can be used such as movie title, description, cast, director etc. \n",
    "3. Collaborative filtering recommenders - Based on past ratings of different users and specific items. We are going to predict ratings and recommendations and also we don't need meta data.\n",
    "\n",
    "Here, we are going to use Content based recommenders."
   ],
   "cell_type": "markdown",
   "metadata": {}
  },
  {
   "source": [
    "Import the required libraries"
   ],
   "cell_type": "markdown",
   "metadata": {}
  },
  {
   "cell_type": "code",
   "execution_count": 164,
   "metadata": {},
   "outputs": [],
   "source": [
    "import pandas as pd \n",
    "import nltk\n",
    "from nltk.tokenize import word_tokenize\n",
    "import re\n",
    "import numpy as np \n",
    "from sklearn.feature_extraction.text import TfidfVectorizer\n",
    "from sklearn.metrics.pairwise import cosine_similarity\n",
    "from gensim.summarization.bm25 import get_bm25_weights"
   ]
  },
  {
   "source": [
    "Load tmdb dataset"
   ],
   "cell_type": "markdown",
   "metadata": {}
  },
  {
   "cell_type": "code",
   "execution_count": 79,
   "metadata": {},
   "outputs": [
    {
     "output_type": "execute_result",
     "data": {
      "text/plain": [
       "      budget                                             genres  \\\n",
       "0  237000000  [{\"id\": 28, \"name\": \"Action\"}, {\"id\": 12, \"nam...   \n",
       "1  300000000  [{\"id\": 12, \"name\": \"Adventure\"}, {\"id\": 14, \"...   \n",
       "2  245000000  [{\"id\": 28, \"name\": \"Action\"}, {\"id\": 12, \"nam...   \n",
       "3  250000000  [{\"id\": 28, \"name\": \"Action\"}, {\"id\": 80, \"nam...   \n",
       "4  260000000  [{\"id\": 28, \"name\": \"Action\"}, {\"id\": 12, \"nam...   \n",
       "\n",
       "                                       homepage      id  \\\n",
       "0                   http://www.avatarmovie.com/   19995   \n",
       "1  http://disney.go.com/disneypictures/pirates/     285   \n",
       "2   http://www.sonypictures.com/movies/spectre/  206647   \n",
       "3            http://www.thedarkknightrises.com/   49026   \n",
       "4          http://movies.disney.com/john-carter   49529   \n",
       "\n",
       "                                            keywords original_language  \\\n",
       "0  [{\"id\": 1463, \"name\": \"culture clash\"}, {\"id\":...                en   \n",
       "1  [{\"id\": 270, \"name\": \"ocean\"}, {\"id\": 726, \"na...                en   \n",
       "2  [{\"id\": 470, \"name\": \"spy\"}, {\"id\": 818, \"name...                en   \n",
       "3  [{\"id\": 849, \"name\": \"dc comics\"}, {\"id\": 853,...                en   \n",
       "4  [{\"id\": 818, \"name\": \"based on novel\"}, {\"id\":...                en   \n",
       "\n",
       "                             original_title  \\\n",
       "0                                    Avatar   \n",
       "1  Pirates of the Caribbean: At World's End   \n",
       "2                                   Spectre   \n",
       "3                     The Dark Knight Rises   \n",
       "4                               John Carter   \n",
       "\n",
       "                                            overview  popularity  \\\n",
       "0  In the 22nd century, a paraplegic Marine is di...  150.437577   \n",
       "1  Captain Barbossa, long believed to be dead, ha...  139.082615   \n",
       "2  A cryptic message from Bond’s past sends him o...  107.376788   \n",
       "3  Following the death of District Attorney Harve...  112.312950   \n",
       "4  John Carter is a war-weary, former military ca...   43.926995   \n",
       "\n",
       "                                production_companies  \\\n",
       "0  [{\"name\": \"Ingenious Film Partners\", \"id\": 289...   \n",
       "1  [{\"name\": \"Walt Disney Pictures\", \"id\": 2}, {\"...   \n",
       "2  [{\"name\": \"Columbia Pictures\", \"id\": 5}, {\"nam...   \n",
       "3  [{\"name\": \"Legendary Pictures\", \"id\": 923}, {\"...   \n",
       "4        [{\"name\": \"Walt Disney Pictures\", \"id\": 2}]   \n",
       "\n",
       "                                production_countries release_date     revenue  \\\n",
       "0  [{\"iso_3166_1\": \"US\", \"name\": \"United States o...   2009-12-10  2787965087   \n",
       "1  [{\"iso_3166_1\": \"US\", \"name\": \"United States o...   2007-05-19   961000000   \n",
       "2  [{\"iso_3166_1\": \"GB\", \"name\": \"United Kingdom\"...   2015-10-26   880674609   \n",
       "3  [{\"iso_3166_1\": \"US\", \"name\": \"United States o...   2012-07-16  1084939099   \n",
       "4  [{\"iso_3166_1\": \"US\", \"name\": \"United States o...   2012-03-07   284139100   \n",
       "\n",
       "   runtime                                   spoken_languages    status  \\\n",
       "0    162.0  [{\"iso_639_1\": \"en\", \"name\": \"English\"}, {\"iso...  Released   \n",
       "1    169.0           [{\"iso_639_1\": \"en\", \"name\": \"English\"}]  Released   \n",
       "2    148.0  [{\"iso_639_1\": \"fr\", \"name\": \"Fran\\u00e7ais\"},...  Released   \n",
       "3    165.0           [{\"iso_639_1\": \"en\", \"name\": \"English\"}]  Released   \n",
       "4    132.0           [{\"iso_639_1\": \"en\", \"name\": \"English\"}]  Released   \n",
       "\n",
       "                                          tagline  \\\n",
       "0                     Enter the World of Pandora.   \n",
       "1  At the end of the world, the adventure begins.   \n",
       "2                           A Plan No One Escapes   \n",
       "3                                 The Legend Ends   \n",
       "4            Lost in our world, found in another.   \n",
       "\n",
       "                                      title  vote_average  vote_count  \n",
       "0                                    Avatar           7.2       11800  \n",
       "1  Pirates of the Caribbean: At World's End           6.9        4500  \n",
       "2                                   Spectre           6.3        4466  \n",
       "3                     The Dark Knight Rises           7.6        9106  \n",
       "4                               John Carter           6.1        2124  "
      ],
      "text/html": "<div>\n<style scoped>\n    .dataframe tbody tr th:only-of-type {\n        vertical-align: middle;\n    }\n\n    .dataframe tbody tr th {\n        vertical-align: top;\n    }\n\n    .dataframe thead th {\n        text-align: right;\n    }\n</style>\n<table border=\"1\" class=\"dataframe\">\n  <thead>\n    <tr style=\"text-align: right;\">\n      <th></th>\n      <th>budget</th>\n      <th>genres</th>\n      <th>homepage</th>\n      <th>id</th>\n      <th>keywords</th>\n      <th>original_language</th>\n      <th>original_title</th>\n      <th>overview</th>\n      <th>popularity</th>\n      <th>production_companies</th>\n      <th>production_countries</th>\n      <th>release_date</th>\n      <th>revenue</th>\n      <th>runtime</th>\n      <th>spoken_languages</th>\n      <th>status</th>\n      <th>tagline</th>\n      <th>title</th>\n      <th>vote_average</th>\n      <th>vote_count</th>\n    </tr>\n  </thead>\n  <tbody>\n    <tr>\n      <th>0</th>\n      <td>237000000</td>\n      <td>[{\"id\": 28, \"name\": \"Action\"}, {\"id\": 12, \"nam...</td>\n      <td>http://www.avatarmovie.com/</td>\n      <td>19995</td>\n      <td>[{\"id\": 1463, \"name\": \"culture clash\"}, {\"id\":...</td>\n      <td>en</td>\n      <td>Avatar</td>\n      <td>In the 22nd century, a paraplegic Marine is di...</td>\n      <td>150.437577</td>\n      <td>[{\"name\": \"Ingenious Film Partners\", \"id\": 289...</td>\n      <td>[{\"iso_3166_1\": \"US\", \"name\": \"United States o...</td>\n      <td>2009-12-10</td>\n      <td>2787965087</td>\n      <td>162.0</td>\n      <td>[{\"iso_639_1\": \"en\", \"name\": \"English\"}, {\"iso...</td>\n      <td>Released</td>\n      <td>Enter the World of Pandora.</td>\n      <td>Avatar</td>\n      <td>7.2</td>\n      <td>11800</td>\n    </tr>\n    <tr>\n      <th>1</th>\n      <td>300000000</td>\n      <td>[{\"id\": 12, \"name\": \"Adventure\"}, {\"id\": 14, \"...</td>\n      <td>http://disney.go.com/disneypictures/pirates/</td>\n      <td>285</td>\n      <td>[{\"id\": 270, \"name\": \"ocean\"}, {\"id\": 726, \"na...</td>\n      <td>en</td>\n      <td>Pirates of the Caribbean: At World's End</td>\n      <td>Captain Barbossa, long believed to be dead, ha...</td>\n      <td>139.082615</td>\n      <td>[{\"name\": \"Walt Disney Pictures\", \"id\": 2}, {\"...</td>\n      <td>[{\"iso_3166_1\": \"US\", \"name\": \"United States o...</td>\n      <td>2007-05-19</td>\n      <td>961000000</td>\n      <td>169.0</td>\n      <td>[{\"iso_639_1\": \"en\", \"name\": \"English\"}]</td>\n      <td>Released</td>\n      <td>At the end of the world, the adventure begins.</td>\n      <td>Pirates of the Caribbean: At World's End</td>\n      <td>6.9</td>\n      <td>4500</td>\n    </tr>\n    <tr>\n      <th>2</th>\n      <td>245000000</td>\n      <td>[{\"id\": 28, \"name\": \"Action\"}, {\"id\": 12, \"nam...</td>\n      <td>http://www.sonypictures.com/movies/spectre/</td>\n      <td>206647</td>\n      <td>[{\"id\": 470, \"name\": \"spy\"}, {\"id\": 818, \"name...</td>\n      <td>en</td>\n      <td>Spectre</td>\n      <td>A cryptic message from Bond’s past sends him o...</td>\n      <td>107.376788</td>\n      <td>[{\"name\": \"Columbia Pictures\", \"id\": 5}, {\"nam...</td>\n      <td>[{\"iso_3166_1\": \"GB\", \"name\": \"United Kingdom\"...</td>\n      <td>2015-10-26</td>\n      <td>880674609</td>\n      <td>148.0</td>\n      <td>[{\"iso_639_1\": \"fr\", \"name\": \"Fran\\u00e7ais\"},...</td>\n      <td>Released</td>\n      <td>A Plan No One Escapes</td>\n      <td>Spectre</td>\n      <td>6.3</td>\n      <td>4466</td>\n    </tr>\n    <tr>\n      <th>3</th>\n      <td>250000000</td>\n      <td>[{\"id\": 28, \"name\": \"Action\"}, {\"id\": 80, \"nam...</td>\n      <td>http://www.thedarkknightrises.com/</td>\n      <td>49026</td>\n      <td>[{\"id\": 849, \"name\": \"dc comics\"}, {\"id\": 853,...</td>\n      <td>en</td>\n      <td>The Dark Knight Rises</td>\n      <td>Following the death of District Attorney Harve...</td>\n      <td>112.312950</td>\n      <td>[{\"name\": \"Legendary Pictures\", \"id\": 923}, {\"...</td>\n      <td>[{\"iso_3166_1\": \"US\", \"name\": \"United States o...</td>\n      <td>2012-07-16</td>\n      <td>1084939099</td>\n      <td>165.0</td>\n      <td>[{\"iso_639_1\": \"en\", \"name\": \"English\"}]</td>\n      <td>Released</td>\n      <td>The Legend Ends</td>\n      <td>The Dark Knight Rises</td>\n      <td>7.6</td>\n      <td>9106</td>\n    </tr>\n    <tr>\n      <th>4</th>\n      <td>260000000</td>\n      <td>[{\"id\": 28, \"name\": \"Action\"}, {\"id\": 12, \"nam...</td>\n      <td>http://movies.disney.com/john-carter</td>\n      <td>49529</td>\n      <td>[{\"id\": 818, \"name\": \"based on novel\"}, {\"id\":...</td>\n      <td>en</td>\n      <td>John Carter</td>\n      <td>John Carter is a war-weary, former military ca...</td>\n      <td>43.926995</td>\n      <td>[{\"name\": \"Walt Disney Pictures\", \"id\": 2}]</td>\n      <td>[{\"iso_3166_1\": \"US\", \"name\": \"United States o...</td>\n      <td>2012-03-07</td>\n      <td>284139100</td>\n      <td>132.0</td>\n      <td>[{\"iso_639_1\": \"en\", \"name\": \"English\"}]</td>\n      <td>Released</td>\n      <td>Lost in our world, found in another.</td>\n      <td>John Carter</td>\n      <td>6.1</td>\n      <td>2124</td>\n    </tr>\n  </tbody>\n</table>\n</div>"
     },
     "metadata": {},
     "execution_count": 79
    }
   ],
   "source": [
    "df = pd.read_csv('./tmdb_dataset/tmdb_5000_movies.csv')\n",
    "df.head()"
   ]
  },
  {
   "source": [
    "Let us explore dataset"
   ],
   "cell_type": "markdown",
   "metadata": {}
  },
  {
   "cell_type": "code",
   "execution_count": 80,
   "metadata": {},
   "outputs": [
    {
     "output_type": "stream",
     "name": "stdout",
     "text": [
      "<class 'pandas.core.frame.DataFrame'>\nRangeIndex: 4803 entries, 0 to 4802\nData columns (total 20 columns):\n #   Column                Non-Null Count  Dtype  \n---  ------                --------------  -----  \n 0   budget                4803 non-null   int64  \n 1   genres                4803 non-null   object \n 2   homepage              1712 non-null   object \n 3   id                    4803 non-null   int64  \n 4   keywords              4803 non-null   object \n 5   original_language     4803 non-null   object \n 6   original_title        4803 non-null   object \n 7   overview              4800 non-null   object \n 8   popularity            4803 non-null   float64\n 9   production_companies  4803 non-null   object \n 10  production_countries  4803 non-null   object \n 11  release_date          4802 non-null   object \n 12  revenue               4803 non-null   int64  \n 13  runtime               4801 non-null   float64\n 14  spoken_languages      4803 non-null   object \n 15  status                4803 non-null   object \n 16  tagline               3959 non-null   object \n 17  title                 4803 non-null   object \n 18  vote_average          4803 non-null   float64\n 19  vote_count            4803 non-null   int64  \ndtypes: float64(3), int64(4), object(13)\nmemory usage: 750.6+ KB\n"
     ]
    }
   ],
   "source": [
    "df.info()"
   ]
  },
  {
   "source": [
    "We do not want all variables for content based recommenders. We will select some variables from dataset."
   ],
   "cell_type": "markdown",
   "metadata": {}
  },
  {
   "cell_type": "code",
   "execution_count": 81,
   "metadata": {},
   "outputs": [
    {
     "output_type": "stream",
     "name": "stdout",
     "text": [
      "<class 'pandas.core.frame.DataFrame'>\nInt64Index: 4800 entries, 0 to 4802\nData columns (total 6 columns):\n #   Column       Non-Null Count  Dtype  \n---  ------       --------------  -----  \n 0   overview     4800 non-null   object \n 1   popularity   4800 non-null   float64\n 2   tagline      4800 non-null   object \n 3   title        4800 non-null   object \n 4   genres       4800 non-null   object \n 5   description  4800 non-null   object \ndtypes: float64(1), object(5)\nmemory usage: 262.5+ KB\n"
     ]
    }
   ],
   "source": [
    "df = df[['overview','popularity','tagline','title','genres']]\n",
    "df.tagline.fillna(' ',inplace=True)\n",
    "# Create a new variable \"Description\" by combaining tagline and overview\n",
    "df['description'] = df['tagline'].map(str)+' '+ df['overview']\n",
    "df.dropna(inplace=True)\n",
    "df.info()"
   ]
  },
  {
   "cell_type": "code",
   "execution_count": 82,
   "metadata": {},
   "outputs": [
    {
     "output_type": "execute_result",
     "data": {
      "text/plain": [
       "                                            overview  popularity  \\\n",
       "0  In the 22nd century, a paraplegic Marine is di...  150.437577   \n",
       "1  Captain Barbossa, long believed to be dead, ha...  139.082615   \n",
       "2  A cryptic message from Bond’s past sends him o...  107.376788   \n",
       "3  Following the death of District Attorney Harve...  112.312950   \n",
       "4  John Carter is a war-weary, former military ca...   43.926995   \n",
       "\n",
       "                                          tagline  \\\n",
       "0                     Enter the World of Pandora.   \n",
       "1  At the end of the world, the adventure begins.   \n",
       "2                           A Plan No One Escapes   \n",
       "3                                 The Legend Ends   \n",
       "4            Lost in our world, found in another.   \n",
       "\n",
       "                                      title  \\\n",
       "0                                    Avatar   \n",
       "1  Pirates of the Caribbean: At World's End   \n",
       "2                                   Spectre   \n",
       "3                     The Dark Knight Rises   \n",
       "4                               John Carter   \n",
       "\n",
       "                                              genres  \\\n",
       "0  [{\"id\": 28, \"name\": \"Action\"}, {\"id\": 12, \"nam...   \n",
       "1  [{\"id\": 12, \"name\": \"Adventure\"}, {\"id\": 14, \"...   \n",
       "2  [{\"id\": 28, \"name\": \"Action\"}, {\"id\": 12, \"nam...   \n",
       "3  [{\"id\": 28, \"name\": \"Action\"}, {\"id\": 80, \"nam...   \n",
       "4  [{\"id\": 28, \"name\": \"Action\"}, {\"id\": 12, \"nam...   \n",
       "\n",
       "                                         description  \n",
       "0  Enter the World of Pandora. In the 22nd centur...  \n",
       "1  At the end of the world, the adventure begins....  \n",
       "2  A Plan No One Escapes A cryptic message from B...  \n",
       "3  The Legend Ends Following the death of Distric...  \n",
       "4  Lost in our world, found in another. John Cart...  "
      ],
      "text/html": "<div>\n<style scoped>\n    .dataframe tbody tr th:only-of-type {\n        vertical-align: middle;\n    }\n\n    .dataframe tbody tr th {\n        vertical-align: top;\n    }\n\n    .dataframe thead th {\n        text-align: right;\n    }\n</style>\n<table border=\"1\" class=\"dataframe\">\n  <thead>\n    <tr style=\"text-align: right;\">\n      <th></th>\n      <th>overview</th>\n      <th>popularity</th>\n      <th>tagline</th>\n      <th>title</th>\n      <th>genres</th>\n      <th>description</th>\n    </tr>\n  </thead>\n  <tbody>\n    <tr>\n      <th>0</th>\n      <td>In the 22nd century, a paraplegic Marine is di...</td>\n      <td>150.437577</td>\n      <td>Enter the World of Pandora.</td>\n      <td>Avatar</td>\n      <td>[{\"id\": 28, \"name\": \"Action\"}, {\"id\": 12, \"nam...</td>\n      <td>Enter the World of Pandora. In the 22nd centur...</td>\n    </tr>\n    <tr>\n      <th>1</th>\n      <td>Captain Barbossa, long believed to be dead, ha...</td>\n      <td>139.082615</td>\n      <td>At the end of the world, the adventure begins.</td>\n      <td>Pirates of the Caribbean: At World's End</td>\n      <td>[{\"id\": 12, \"name\": \"Adventure\"}, {\"id\": 14, \"...</td>\n      <td>At the end of the world, the adventure begins....</td>\n    </tr>\n    <tr>\n      <th>2</th>\n      <td>A cryptic message from Bond’s past sends him o...</td>\n      <td>107.376788</td>\n      <td>A Plan No One Escapes</td>\n      <td>Spectre</td>\n      <td>[{\"id\": 28, \"name\": \"Action\"}, {\"id\": 12, \"nam...</td>\n      <td>A Plan No One Escapes A cryptic message from B...</td>\n    </tr>\n    <tr>\n      <th>3</th>\n      <td>Following the death of District Attorney Harve...</td>\n      <td>112.312950</td>\n      <td>The Legend Ends</td>\n      <td>The Dark Knight Rises</td>\n      <td>[{\"id\": 28, \"name\": \"Action\"}, {\"id\": 80, \"nam...</td>\n      <td>The Legend Ends Following the death of Distric...</td>\n    </tr>\n    <tr>\n      <th>4</th>\n      <td>John Carter is a war-weary, former military ca...</td>\n      <td>43.926995</td>\n      <td>Lost in our world, found in another.</td>\n      <td>John Carter</td>\n      <td>[{\"id\": 28, \"name\": \"Action\"}, {\"id\": 12, \"nam...</td>\n      <td>Lost in our world, found in another. John Cart...</td>\n    </tr>\n  </tbody>\n</table>\n</div>"
     },
     "metadata": {},
     "execution_count": 82
    }
   ],
   "source": [
    "df.head()"
   ]
  },
  {
   "cell_type": "code",
   "execution_count": 83,
   "metadata": {},
   "outputs": [
    {
     "output_type": "stream",
     "name": "stdout",
     "text": [
      "<class 'pandas.core.frame.DataFrame'>\nInt64Index: 4800 entries, 0 to 4802\nData columns (total 6 columns):\n #   Column       Non-Null Count  Dtype  \n---  ------       --------------  -----  \n 0   overview     4800 non-null   object \n 1   popularity   4800 non-null   float64\n 2   tagline      4800 non-null   object \n 3   title        4800 non-null   object \n 4   genres       4800 non-null   object \n 5   description  4800 non-null   object \ndtypes: float64(1), object(5)\nmemory usage: 262.5+ KB\n"
     ]
    }
   ],
   "source": [
    "df.info()"
   ]
  },
  {
   "source": [
    "Text preprocessing"
   ],
   "cell_type": "markdown",
   "metadata": {}
  },
  {
   "cell_type": "code",
   "execution_count": 86,
   "metadata": {},
   "outputs": [
    {
     "output_type": "stream",
     "name": "stderr",
     "text": [
      "[nltk_data] Downloading package punkt to /home/csuser/nltk_data...\n[nltk_data]   Package punkt is already up-to-date!\n"
     ]
    }
   ],
   "source": [
    "nltk.download('punkt')\n",
    "#removing stop words\n",
    "stop_words = nltk.corpus.stopwords.words('english')\n",
    "\n",
    "# Normalization of each document\n",
    "def normalize_doc(doc):\n",
    "    # lowercase and remove special characters\\whitespace\n",
    "    doc = re.sub(r'[^a-zA-Z\\s]', '', doc, re.I|re.A)\n",
    "    doc = doc.lower()\n",
    "    doc = doc.strip()\n",
    "    # tokenize document\n",
    "    tokens = nltk.word_tokenize(doc)\n",
    "    # filter stopwords out of document\n",
    "    filtered_tokens = [token for token in tokens if token not in stop_words]\n",
    "    # re-create document from filtered tokens\n",
    "    doc = ' '.join(filtered_tokens)\n",
    "    return doc\n",
    "\n",
    "norm_corpus = np.vectorize(normalize_doc)"
   ]
  },
  {
   "cell_type": "code",
   "execution_count": 87,
   "metadata": {},
   "outputs": [
    {
     "output_type": "execute_result",
     "data": {
      "text/plain": [
       "4800"
      ]
     },
     "metadata": {},
     "execution_count": 87
    }
   ],
   "source": [
    "norm_corpus = norm_corpus(list(df['description']))\n",
    "len(norm_corpus)"
   ]
  },
  {
   "source": [
    "Extract td-idf features "
   ],
   "cell_type": "markdown",
   "metadata": {}
  },
  {
   "cell_type": "code",
   "execution_count": 91,
   "metadata": {},
   "outputs": [
    {
     "output_type": "execute_result",
     "data": {
      "text/plain": [
       "(4800, 20464)"
      ]
     },
     "metadata": {},
     "execution_count": 91
    }
   ],
   "source": [
    "tf = TfidfVectorizer(ngram_range=(1,2),min_df=2)\n",
    "tfidf_matrix = tf.fit_transform(norm_corpus)\n",
    "tfidf_matrix.shape"
   ]
  },
  {
   "source": [
    "Cosine similarity for Pairwise Document Similarity"
   ],
   "cell_type": "markdown",
   "metadata": {}
  },
  {
   "cell_type": "code",
   "execution_count": 95,
   "metadata": {},
   "outputs": [
    {
     "output_type": "execute_result",
     "data": {
      "text/plain": [
       "       0         1         2         3         4         5         6     \\\n",
       "0  1.000000  0.010754  0.000000  0.019123  0.028828  0.025023  0.000000   \n",
       "1  0.010754  1.000000  0.011891  0.000000  0.041623  0.000000  0.014755   \n",
       "2  0.000000  0.011891  1.000000  0.000000  0.000000  0.000000  0.000000   \n",
       "3  0.019123  0.000000  0.000000  1.000000  0.008793  0.000000  0.016185   \n",
       "4  0.028828  0.041623  0.000000  0.008793  1.000000  0.000000  0.023211   \n",
       "\n",
       "       7         8         9     ...      4790  4791      4792      4793  \\\n",
       "0  0.026646  0.000000  0.007459  ...  0.009749   0.0  0.023452  0.033714   \n",
       "1  0.027122  0.034707  0.007617  ...  0.009956   0.0  0.004818  0.000000   \n",
       "2  0.022242  0.015862  0.004893  ...  0.042617   0.0  0.000000  0.000000   \n",
       "3  0.023172  0.027467  0.073640  ...  0.000000   0.0  0.009667  0.000000   \n",
       "4  0.028676  0.000000  0.023547  ...  0.014800   0.0  0.000000  0.000000   \n",
       "\n",
       "      4794      4795  4796      4797      4798      4799  \n",
       "0  0.00000  0.000000   0.0  0.006926  0.000000  0.000000  \n",
       "1  0.00000  0.012593   0.0  0.022392  0.013724  0.000000  \n",
       "2  0.01654  0.000000   0.0  0.011682  0.000000  0.004047  \n",
       "3  0.00000  0.000000   0.0  0.028355  0.021785  0.028060  \n",
       "4  0.00000  0.010760   0.0  0.010514  0.000000  0.000000  \n",
       "\n",
       "[5 rows x 4800 columns]"
      ],
      "text/html": "<div>\n<style scoped>\n    .dataframe tbody tr th:only-of-type {\n        vertical-align: middle;\n    }\n\n    .dataframe tbody tr th {\n        vertical-align: top;\n    }\n\n    .dataframe thead th {\n        text-align: right;\n    }\n</style>\n<table border=\"1\" class=\"dataframe\">\n  <thead>\n    <tr style=\"text-align: right;\">\n      <th></th>\n      <th>0</th>\n      <th>1</th>\n      <th>2</th>\n      <th>3</th>\n      <th>4</th>\n      <th>5</th>\n      <th>6</th>\n      <th>7</th>\n      <th>8</th>\n      <th>9</th>\n      <th>...</th>\n      <th>4790</th>\n      <th>4791</th>\n      <th>4792</th>\n      <th>4793</th>\n      <th>4794</th>\n      <th>4795</th>\n      <th>4796</th>\n      <th>4797</th>\n      <th>4798</th>\n      <th>4799</th>\n    </tr>\n  </thead>\n  <tbody>\n    <tr>\n      <th>0</th>\n      <td>1.000000</td>\n      <td>0.010754</td>\n      <td>0.000000</td>\n      <td>0.019123</td>\n      <td>0.028828</td>\n      <td>0.025023</td>\n      <td>0.000000</td>\n      <td>0.026646</td>\n      <td>0.000000</td>\n      <td>0.007459</td>\n      <td>...</td>\n      <td>0.009749</td>\n      <td>0.0</td>\n      <td>0.023452</td>\n      <td>0.033714</td>\n      <td>0.00000</td>\n      <td>0.000000</td>\n      <td>0.0</td>\n      <td>0.006926</td>\n      <td>0.000000</td>\n      <td>0.000000</td>\n    </tr>\n    <tr>\n      <th>1</th>\n      <td>0.010754</td>\n      <td>1.000000</td>\n      <td>0.011891</td>\n      <td>0.000000</td>\n      <td>0.041623</td>\n      <td>0.000000</td>\n      <td>0.014755</td>\n      <td>0.027122</td>\n      <td>0.034707</td>\n      <td>0.007617</td>\n      <td>...</td>\n      <td>0.009956</td>\n      <td>0.0</td>\n      <td>0.004818</td>\n      <td>0.000000</td>\n      <td>0.00000</td>\n      <td>0.012593</td>\n      <td>0.0</td>\n      <td>0.022392</td>\n      <td>0.013724</td>\n      <td>0.000000</td>\n    </tr>\n    <tr>\n      <th>2</th>\n      <td>0.000000</td>\n      <td>0.011891</td>\n      <td>1.000000</td>\n      <td>0.000000</td>\n      <td>0.000000</td>\n      <td>0.000000</td>\n      <td>0.000000</td>\n      <td>0.022242</td>\n      <td>0.015862</td>\n      <td>0.004893</td>\n      <td>...</td>\n      <td>0.042617</td>\n      <td>0.0</td>\n      <td>0.000000</td>\n      <td>0.000000</td>\n      <td>0.01654</td>\n      <td>0.000000</td>\n      <td>0.0</td>\n      <td>0.011682</td>\n      <td>0.000000</td>\n      <td>0.004047</td>\n    </tr>\n    <tr>\n      <th>3</th>\n      <td>0.019123</td>\n      <td>0.000000</td>\n      <td>0.000000</td>\n      <td>1.000000</td>\n      <td>0.008793</td>\n      <td>0.000000</td>\n      <td>0.016185</td>\n      <td>0.023172</td>\n      <td>0.027467</td>\n      <td>0.073640</td>\n      <td>...</td>\n      <td>0.000000</td>\n      <td>0.0</td>\n      <td>0.009667</td>\n      <td>0.000000</td>\n      <td>0.00000</td>\n      <td>0.000000</td>\n      <td>0.0</td>\n      <td>0.028355</td>\n      <td>0.021785</td>\n      <td>0.028060</td>\n    </tr>\n    <tr>\n      <th>4</th>\n      <td>0.028828</td>\n      <td>0.041623</td>\n      <td>0.000000</td>\n      <td>0.008793</td>\n      <td>1.000000</td>\n      <td>0.000000</td>\n      <td>0.023211</td>\n      <td>0.028676</td>\n      <td>0.000000</td>\n      <td>0.023547</td>\n      <td>...</td>\n      <td>0.014800</td>\n      <td>0.0</td>\n      <td>0.000000</td>\n      <td>0.000000</td>\n      <td>0.00000</td>\n      <td>0.010760</td>\n      <td>0.0</td>\n      <td>0.010514</td>\n      <td>0.000000</td>\n      <td>0.000000</td>\n    </tr>\n  </tbody>\n</table>\n<p>5 rows × 4800 columns</p>\n</div>"
     },
     "metadata": {},
     "execution_count": 95
    }
   ],
   "source": [
    "cs = cosine_similarity(tfidf_matrix)\n",
    "cs_df = pd.DataFrame(cs)\n",
    "cs_df.head()"
   ]
  },
  {
   "cell_type": "code",
   "execution_count": 97,
   "metadata": {},
   "outputs": [
    {
     "output_type": "execute_result",
     "data": {
      "text/plain": [
       "(array(['Avatar', \"Pirates of the Caribbean: At World's End\", 'Spectre',\n",
       "        ..., 'Signed, Sealed, Delivered', 'Shanghai Calling',\n",
       "        'My Date with Drew'], dtype=object),\n",
       " (4800,))"
      ]
     },
     "metadata": {},
     "execution_count": 97
    }
   ],
   "source": [
    "#Movies list\n",
    "movies_list = df['title'].values\n",
    "movies_list,movies_list.shape"
   ]
  },
  {
   "source": [
    "Find top similar movies "
   ],
   "cell_type": "markdown",
   "metadata": {}
  },
  {
   "cell_type": "code",
   "execution_count": 124,
   "metadata": {},
   "outputs": [
    {
     "output_type": "execute_result",
     "data": {
      "text/plain": [
       "3603"
      ]
     },
     "metadata": {},
     "execution_count": 124
    }
   ],
   "source": [
    "# find movie id\n",
    "movie_idx = np.where(movies_list=='Apollo 18')[0][0]\n",
    "movie_idx"
   ]
  },
  {
   "cell_type": "code",
   "execution_count": 125,
   "metadata": {},
   "outputs": [
    {
     "output_type": "execute_result",
     "data": {
      "text/plain": [
       "array([0.14777147, 0.01529667, 0.02089563, ..., 0.00722744, 0.00902633,\n",
       "       0.01666397])"
      ]
     },
     "metadata": {},
     "execution_count": 125
    }
   ],
   "source": [
    "# Find similar movies for given movie_idx\n",
    "movie_simis = cs_df.iloc[movie_idx].values\n",
    "movie_simis"
   ]
  },
  {
   "cell_type": "code",
   "execution_count": 126,
   "metadata": {},
   "outputs": [
    {
     "output_type": "execute_result",
     "data": {
      "text/plain": [
       "array([ 311,  847, 1275,    0, 4246])"
      ]
     },
     "metadata": {},
     "execution_count": 126
    }
   ],
   "source": [
    "# Get top five movie similar ids\n",
    "sim_movie_idx = np.argsort(-movie_simis)[1:6]\n",
    "sim_movie_idx"
   ]
  },
  {
   "cell_type": "code",
   "execution_count": 127,
   "metadata": {},
   "outputs": [
    {
     "output_type": "execute_result",
     "data": {
      "text/plain": [
       "array(['The Adventures of Pluto Nash', 'Semi-Pro', 'Sunshine', 'Avatar',\n",
       "       'The Lords of Salem'], dtype=object)"
      ]
     },
     "metadata": {},
     "execution_count": 127
    }
   ],
   "source": [
    "# Get top five movies\n",
    "sim_movies = movies_list[sim_movie_idx]\n",
    "sim_movies"
   ]
  },
  {
   "source": [
    "Get list of popular movies\n"
   ],
   "cell_type": "markdown",
   "metadata": {}
  },
  {
   "cell_type": "code",
   "execution_count": 129,
   "metadata": {},
   "outputs": [
    {
     "output_type": "execute_result",
     "data": {
      "text/plain": [
       "                                               overview  popularity  \\\n",
       "546   Minions Stuart, Kevin and Bob are recruited by...  875.581305   \n",
       "95    Interstellar chronicles the adventures of a gr...  724.247784   \n",
       "788   Deadpool tells the origin story of former Spec...  514.569956   \n",
       "94    Light years from Earth, 26 years after being a...  481.098624   \n",
       "127   An apocalyptic story set in the furthest reach...  434.278564   \n",
       "...                                                 ...         ...   \n",
       "4625  A Broadway producer puts on a play with a Devi...    0.001389   \n",
       "4118  Raju, a waiter, is in love with the famous TV ...    0.001186   \n",
       "4727  A hitchhiker named Martel Gordone gets in a fi...    0.001117   \n",
       "3361  A man who is having an affair with a married w...    0.000372   \n",
       "4553  1971 post civil rights San Francisco seemed li...    0.000000   \n",
       "\n",
       "                                                tagline  \\\n",
       "546        Before Gru, they had a history of bad bosses   \n",
       "95    Mankind was born on Earth. It was never meant ...   \n",
       "788             Witness the beginning of a happy ending   \n",
       "94                          All heroes start somewhere.   \n",
       "127                                  What a Lovely Day.   \n",
       "...                                                 ...   \n",
       "4625                The hot spot where Satan's waitin'.   \n",
       "4118                                                      \n",
       "4727  There's only one way out, and 100 fools stand ...   \n",
       "3361                        Don't you dare go in there!   \n",
       "4553                                                      \n",
       "\n",
       "                           title  \\\n",
       "546                      Minions   \n",
       "95                  Interstellar   \n",
       "788                     Deadpool   \n",
       "94       Guardians of the Galaxy   \n",
       "127           Mad Max: Fury Road   \n",
       "...                          ...   \n",
       "4625            Midnight Cabaret   \n",
       "4118      Hum To Mohabbat Karega   \n",
       "4727                Penitentiary   \n",
       "3361                  Alien Zone   \n",
       "4553  America Is Still the Place   \n",
       "\n",
       "                                                 genres  \\\n",
       "546   [{\"id\": 10751, \"name\": \"Family\"}, {\"id\": 16, \"...   \n",
       "95    [{\"id\": 12, \"name\": \"Adventure\"}, {\"id\": 18, \"...   \n",
       "788   [{\"id\": 28, \"name\": \"Action\"}, {\"id\": 12, \"nam...   \n",
       "94    [{\"id\": 28, \"name\": \"Action\"}, {\"id\": 878, \"na...   \n",
       "127   [{\"id\": 28, \"name\": \"Action\"}, {\"id\": 12, \"nam...   \n",
       "...                                                 ...   \n",
       "4625                     [{\"id\": 27, \"name\": \"Horror\"}]   \n",
       "4118                                                 []   \n",
       "4727  [{\"id\": 28, \"name\": \"Action\"}, {\"id\": 18, \"nam...   \n",
       "3361  [{\"id\": 27, \"name\": \"Horror\"}, {\"id\": 28, \"nam...   \n",
       "4553                                                 []   \n",
       "\n",
       "                                            description  \n",
       "546   Before Gru, they had a history of bad bosses M...  \n",
       "95    Mankind was born on Earth. It was never meant ...  \n",
       "788   Witness the beginning of a happy ending Deadpo...  \n",
       "94    All heroes start somewhere. Light years from E...  \n",
       "127   What a Lovely Day. An apocalyptic story set in...  \n",
       "...                                                 ...  \n",
       "4625  The hot spot where Satan's waitin'. A Broadway...  \n",
       "4118    Raju, a waiter, is in love with the famous T...  \n",
       "4727  There's only one way out, and 100 fools stand ...  \n",
       "3361  Don't you dare go in there! A man who is havin...  \n",
       "4553    1971 post civil rights San Francisco seemed ...  \n",
       "\n",
       "[4800 rows x 6 columns]"
      ],
      "text/html": "<div>\n<style scoped>\n    .dataframe tbody tr th:only-of-type {\n        vertical-align: middle;\n    }\n\n    .dataframe tbody tr th {\n        vertical-align: top;\n    }\n\n    .dataframe thead th {\n        text-align: right;\n    }\n</style>\n<table border=\"1\" class=\"dataframe\">\n  <thead>\n    <tr style=\"text-align: right;\">\n      <th></th>\n      <th>overview</th>\n      <th>popularity</th>\n      <th>tagline</th>\n      <th>title</th>\n      <th>genres</th>\n      <th>description</th>\n    </tr>\n  </thead>\n  <tbody>\n    <tr>\n      <th>546</th>\n      <td>Minions Stuart, Kevin and Bob are recruited by...</td>\n      <td>875.581305</td>\n      <td>Before Gru, they had a history of bad bosses</td>\n      <td>Minions</td>\n      <td>[{\"id\": 10751, \"name\": \"Family\"}, {\"id\": 16, \"...</td>\n      <td>Before Gru, they had a history of bad bosses M...</td>\n    </tr>\n    <tr>\n      <th>95</th>\n      <td>Interstellar chronicles the adventures of a gr...</td>\n      <td>724.247784</td>\n      <td>Mankind was born on Earth. It was never meant ...</td>\n      <td>Interstellar</td>\n      <td>[{\"id\": 12, \"name\": \"Adventure\"}, {\"id\": 18, \"...</td>\n      <td>Mankind was born on Earth. It was never meant ...</td>\n    </tr>\n    <tr>\n      <th>788</th>\n      <td>Deadpool tells the origin story of former Spec...</td>\n      <td>514.569956</td>\n      <td>Witness the beginning of a happy ending</td>\n      <td>Deadpool</td>\n      <td>[{\"id\": 28, \"name\": \"Action\"}, {\"id\": 12, \"nam...</td>\n      <td>Witness the beginning of a happy ending Deadpo...</td>\n    </tr>\n    <tr>\n      <th>94</th>\n      <td>Light years from Earth, 26 years after being a...</td>\n      <td>481.098624</td>\n      <td>All heroes start somewhere.</td>\n      <td>Guardians of the Galaxy</td>\n      <td>[{\"id\": 28, \"name\": \"Action\"}, {\"id\": 878, \"na...</td>\n      <td>All heroes start somewhere. Light years from E...</td>\n    </tr>\n    <tr>\n      <th>127</th>\n      <td>An apocalyptic story set in the furthest reach...</td>\n      <td>434.278564</td>\n      <td>What a Lovely Day.</td>\n      <td>Mad Max: Fury Road</td>\n      <td>[{\"id\": 28, \"name\": \"Action\"}, {\"id\": 12, \"nam...</td>\n      <td>What a Lovely Day. An apocalyptic story set in...</td>\n    </tr>\n    <tr>\n      <th>...</th>\n      <td>...</td>\n      <td>...</td>\n      <td>...</td>\n      <td>...</td>\n      <td>...</td>\n      <td>...</td>\n    </tr>\n    <tr>\n      <th>4625</th>\n      <td>A Broadway producer puts on a play with a Devi...</td>\n      <td>0.001389</td>\n      <td>The hot spot where Satan's waitin'.</td>\n      <td>Midnight Cabaret</td>\n      <td>[{\"id\": 27, \"name\": \"Horror\"}]</td>\n      <td>The hot spot where Satan's waitin'. A Broadway...</td>\n    </tr>\n    <tr>\n      <th>4118</th>\n      <td>Raju, a waiter, is in love with the famous TV ...</td>\n      <td>0.001186</td>\n      <td></td>\n      <td>Hum To Mohabbat Karega</td>\n      <td>[]</td>\n      <td>Raju, a waiter, is in love with the famous T...</td>\n    </tr>\n    <tr>\n      <th>4727</th>\n      <td>A hitchhiker named Martel Gordone gets in a fi...</td>\n      <td>0.001117</td>\n      <td>There's only one way out, and 100 fools stand ...</td>\n      <td>Penitentiary</td>\n      <td>[{\"id\": 28, \"name\": \"Action\"}, {\"id\": 18, \"nam...</td>\n      <td>There's only one way out, and 100 fools stand ...</td>\n    </tr>\n    <tr>\n      <th>3361</th>\n      <td>A man who is having an affair with a married w...</td>\n      <td>0.000372</td>\n      <td>Don't you dare go in there!</td>\n      <td>Alien Zone</td>\n      <td>[{\"id\": 27, \"name\": \"Horror\"}, {\"id\": 28, \"nam...</td>\n      <td>Don't you dare go in there! A man who is havin...</td>\n    </tr>\n    <tr>\n      <th>4553</th>\n      <td>1971 post civil rights San Francisco seemed li...</td>\n      <td>0.000000</td>\n      <td></td>\n      <td>America Is Still the Place</td>\n      <td>[]</td>\n      <td>1971 post civil rights San Francisco seemed ...</td>\n    </tr>\n  </tbody>\n</table>\n<p>4800 rows × 6 columns</p>\n</div>"
     },
     "metadata": {},
     "execution_count": 129
    }
   ],
   "source": [
    "pop_mvs = df.sort_values(by='popularity',ascending=False)\n",
    "pop_mvs"
   ]
  },
  {
   "cell_type": "code",
   "execution_count": 161,
   "metadata": {},
   "outputs": [],
   "source": [
    "#Select movies based on popularity scores\n",
    "pop_mvs = ['Minions', 'Interstellar', 'Deadpool', 'Jurassic World',\n",
    "'Pirates of the Caribbean: The Curse of the Black Pearl',\n",
    "'Dawn of the Planet of the Apes', 'Terminator Genisys', 'Captain America: Civil War', 'The Dark Knight', 'The Martian','Batman v Superman: Dawn of Justice', 'Pulp Fiction', 'The Godfather', 'The Shawshank Redemption', 'The Lord of the Rings: The Fellowship of the Ring', 'Harry Potter and the Chamber of Secrets', 'The Hobbit: The Battle of the Five Armies', 'Iron Man']"
   ]
  },
  {
   "source": [
    "Create function for recommander system\n"
   ],
   "cell_type": "markdown",
   "metadata": {}
  },
  {
   "cell_type": "code",
   "execution_count": 159,
   "metadata": {},
   "outputs": [],
   "source": [
    "def movie_recommander(movie_title, movies=movies_list, mov_sim=movie_simis):\n",
    "    # Get movie id\n",
    "    movie_idx = np.where(movies==movie_title)[0][0]\n",
    "    # Find similar movies for given movie_idx\n",
    "    movie_simis = cs_df.iloc[movie_idx].values \n",
    "    # Get top five movie similar ids\n",
    "    sim_movie_idx = np.argsort(-movie_simis)[1:6]\n",
    "    # Get top five movies\n",
    "    sim_movies = movies_list[sim_movie_idx]\n",
    "    return sim_movies\n"
   ]
  },
  {
   "source": [
    "Get popular movies similarities"
   ],
   "cell_type": "markdown",
   "metadata": {}
  },
  {
   "cell_type": "code",
   "execution_count": 162,
   "metadata": {},
   "outputs": [
    {
     "output_type": "stream",
     "name": "stdout",
     "text": [
      "Movie: Minions\nTop 5 recommanded movies ['Despicable Me 2' 'Despicable Me'\n 'Teenage Mutant Ninja Turtles: Out of the Shadows' 'Superman'\n 'Rise of the Guardians']\n\nMovie: Interstellar\nTop 5 recommanded movies ['Gattaca' 'Space Cowboys' 'Space Pirate Captain Harlock'\n 'Starship Troopers' 'Final Destination 2']\n\nMovie: Deadpool\nTop 5 recommanded movies ['Silent Trigger' 'Underworld: Evolution' 'Mars Attacks!' 'Bronson'\n 'Shaft']\n\nMovie: Jurassic World\nTop 5 recommanded movies ['Jurassic Park' 'The Lost World: Jurassic Park' 'The Nut Job'\n \"National Lampoon's Vacation\" 'Vacation']\n\nMovie: Pirates of the Caribbean: The Curse of the Black Pearl\nTop 5 recommanded movies [\"Pirates of the Caribbean: Dead Man's Chest\" 'The Pirate'\n 'Pirates of the Caribbean: On Stranger Tides'\n 'The Pirates! In an Adventure with Scientists!' 'Joyful Noise']\n\nMovie: Dawn of the Planet of the Apes\nTop 5 recommanded movies ['Battle for the Planet of the Apes' 'Groove' 'The Other End of the Line'\n 'Chicago Overcoat' 'Definitely, Maybe']\n\nMovie: Terminator Genisys\nTop 5 recommanded movies ['Terminator 2: Judgment Day' 'Terminator Salvation'\n 'Terminator 3: Rise of the Machines' 'Mad Max'\n 'X-Men: Days of Future Past']\n\nMovie: Captain America: Civil War\nTop 5 recommanded movies ['Captain America: The Winter Soldier' 'This Means War'\n 'Avengers: Age of Ultron' 'Iron Man 2' 'Escape from Tomorrow']\n\nMovie: The Dark Knight\nTop 5 recommanded movies ['The Dark Knight Rises' 'Batman Forever' 'Batman Returns'\n 'Batman: The Dark Knight Returns, Part 2' 'Slow Burn']\n\nMovie: The Martian\nTop 5 recommanded movies ['The Last Days on Mars' 'Swept Away' 'Alive' 'All Is Lost' 'Red Planet']\n\nMovie: Batman v Superman: Dawn of Justice\nTop 5 recommanded movies ['Batman Returns' 'The Punisher' 'Batman: The Dark Knight Returns, Part 2'\n 'Defendor' 'Nowhere to Run']\n\nMovie: Pulp Fiction\nTop 5 recommanded movies ['Sliding Doors' 'New York Stories' 'You Kill Me' 'Timecrimes'\n 'All or Nothing']\n\nMovie: The Godfather\nTop 5 recommanded movies ['The Godfather: Part II' 'Blood Ties' 'Made' 'Lords of London'\n 'Mickey Blue Eyes']\n\nMovie: The Shawshank Redemption\nTop 5 recommanded movies ['Civil Brand' 'Les Misérables' 'Prison' 'Fortress' 'Escape Plan']\n\nMovie: The Lord of the Rings: The Fellowship of the Ring\nTop 5 recommanded movies ['The Lord of the Rings: The Two Towers'\n 'The Hobbit: The Desolation of Smaug'\n 'The Lord of the Rings: The Return of the King'\n \"What's the Worst That Could Happen?\" 'The Hobbit: An Unexpected Journey']\n\nMovie: Harry Potter and the Chamber of Secrets\nTop 5 recommanded movies ['Harry Potter and the Prisoner of Azkaban'\n 'Harry Potter and the Goblet of Fire'\n 'Harry Potter and the Order of the Phoenix'\n 'Harry Potter and the Half-Blood Prince'\n \"Harry Potter and the Philosopher's Stone\"]\n\nMovie: The Hobbit: The Battle of the Five Armies\nTop 5 recommanded movies ['The Hobbit: The Desolation of Smaug' 'The Hobbit: An Unexpected Journey'\n \"Dragon Nest: Warriors' Dawn\"\n 'A Funny Thing Happened on the Way to the Forum' 'X-Men: Apocalypse']\n\nMovie: Iron Man\nTop 5 recommanded movies ['Iron Man 2' 'Avengers: Age of Ultron' 'Hostage'\n 'Baahubali: The Beginning' 'Iron Man 3']\n\n"
     ]
    }
   ],
   "source": [
    "for movie in pop_mvs:\n",
    "    print('Movie:', movie)\n",
    "    print('Top 5 recommanded movies', movie_recommander(movie_title=movie))\n",
    "    print()\n"
   ]
  },
  {
   "source": [
    "Okapi BM25 Ranking for Pairwise Document Similarity\n",
    "\n",
    "It is quite popular algorithm like page rank used to retrieve information and search engines.\n"
   ],
   "cell_type": "markdown",
   "metadata": {}
  },
  {
   "cell_type": "code",
   "execution_count": 166,
   "metadata": {},
   "outputs": [
    {
     "output_type": "execute_result",
     "data": {
      "text/plain": [
       "array([list(['enter', 'world', 'pandora', 'nd', 'century', 'paraplegic', 'marine', 'dispatched', 'moon', 'pandora', 'unique', 'mission', 'becomes', 'torn', 'following', 'orders', 'protecting', 'alien', 'civilization']),\n",
       "       list(['end', 'world', 'adventure', 'begins', 'captain', 'barbossa', 'long', 'believed', 'dead', 'come', 'back', 'life', 'headed', 'edge', 'earth', 'turner', 'elizabeth', 'swann', 'nothing', 'quite', 'seems']),\n",
       "       list(['plan', 'one', 'escapes', 'cryptic', 'message', 'bonds', 'past', 'sends', 'trail', 'uncover', 'sinister', 'organization', 'battles', 'political', 'forces', 'keep', 'secret', 'service', 'alive', 'bond', 'peels', 'back', 'layers', 'deceit', 'reveal', 'terrible', 'truth', 'behind', 'spectre']),\n",
       "       list(['legend', 'ends', 'following', 'death', 'district', 'attorney', 'harvey', 'dent', 'batman', 'assumes', 'responsibility', 'dents', 'crimes', 'protect', 'late', 'attorneys', 'reputation', 'subsequently', 'hunted', 'gotham', 'city', 'police', 'department', 'eight', 'years', 'later', 'batman', 'encounters', 'mysterious', 'selina', 'kyle', 'villainous', 'bane', 'new', 'terrorist', 'leader', 'overwhelms', 'gothams', 'finest', 'dark', 'knight', 'resurfaces', 'protect', 'city', 'branded', 'enemy'])],\n",
       "      dtype=object)"
      ]
     },
     "metadata": {},
     "execution_count": 166
    }
   ],
   "source": [
    "# Tokenize the corpus\n",
    " norm_corpus_tokens = np.array([nltk.word_tokenize(doc) for doc in norm_corpus ])\n",
    " norm_corpus_tokens[:4]"
   ]
  },
  {
   "cell_type": "code",
   "execution_count": 168,
   "metadata": {},
   "outputs": [
    {
     "output_type": "execute_result",
     "data": {
      "text/plain": [
       "         0           1           2           3           4         5     \\\n",
       "0  133.236216    2.344334    0.000000    3.861253    5.541154  4.618482   \n",
       "1    2.422878  111.138242    2.649992    0.000000    7.078071  0.000000   \n",
       "2    0.000000    2.993616  149.788109    0.000000    0.000000  0.000000   \n",
       "3    5.607690    0.000000    0.000000  221.106887    3.192287  0.000000   \n",
       "4    8.388436   10.002182    0.000000    2.787245  181.520289  0.000000   \n",
       "\n",
       "       6         7         8          9     ...      4790  4791      4792  \\\n",
       "0  0.000000  4.647223  0.000000   1.792351  ...  2.382959   0.0  3.635955   \n",
       "1  2.707911  5.956817  5.037028   1.792351  ...  2.382959   0.0  1.110701   \n",
       "2  0.000000  4.681828  4.058200   1.433300  ...  7.748826   0.0  0.000000   \n",
       "3  5.892955  7.055147  6.388300  18.938899  ...  0.000000   0.0  2.985986   \n",
       "4  5.605415  7.507656  0.000000   6.802209  ...  4.765918   0.0  0.000000   \n",
       "\n",
       "       4793      4794      4795  4796      4797      4798      4799  \n",
       "0  5.076981  0.000000  0.000000   0.0  1.687774  0.000000  0.000000  \n",
       "1  0.000000  0.000000  2.821835   0.0  4.723948  3.026945  0.000000  \n",
       "2  0.000000  3.550886  0.000000   0.0  2.921650  0.000000  1.433300  \n",
       "3  0.000000  0.000000  0.000000   0.0  8.377811  7.000089  7.446661  \n",
       "4  0.000000  0.000000  3.102177   0.0  3.375549  0.000000  0.000000  \n",
       "\n",
       "[5 rows x 4800 columns]"
      ],
      "text/html": "<div>\n<style scoped>\n    .dataframe tbody tr th:only-of-type {\n        vertical-align: middle;\n    }\n\n    .dataframe tbody tr th {\n        vertical-align: top;\n    }\n\n    .dataframe thead th {\n        text-align: right;\n    }\n</style>\n<table border=\"1\" class=\"dataframe\">\n  <thead>\n    <tr style=\"text-align: right;\">\n      <th></th>\n      <th>0</th>\n      <th>1</th>\n      <th>2</th>\n      <th>3</th>\n      <th>4</th>\n      <th>5</th>\n      <th>6</th>\n      <th>7</th>\n      <th>8</th>\n      <th>9</th>\n      <th>...</th>\n      <th>4790</th>\n      <th>4791</th>\n      <th>4792</th>\n      <th>4793</th>\n      <th>4794</th>\n      <th>4795</th>\n      <th>4796</th>\n      <th>4797</th>\n      <th>4798</th>\n      <th>4799</th>\n    </tr>\n  </thead>\n  <tbody>\n    <tr>\n      <th>0</th>\n      <td>133.236216</td>\n      <td>2.344334</td>\n      <td>0.000000</td>\n      <td>3.861253</td>\n      <td>5.541154</td>\n      <td>4.618482</td>\n      <td>0.000000</td>\n      <td>4.647223</td>\n      <td>0.000000</td>\n      <td>1.792351</td>\n      <td>...</td>\n      <td>2.382959</td>\n      <td>0.0</td>\n      <td>3.635955</td>\n      <td>5.076981</td>\n      <td>0.000000</td>\n      <td>0.000000</td>\n      <td>0.0</td>\n      <td>1.687774</td>\n      <td>0.000000</td>\n      <td>0.000000</td>\n    </tr>\n    <tr>\n      <th>1</th>\n      <td>2.422878</td>\n      <td>111.138242</td>\n      <td>2.649992</td>\n      <td>0.000000</td>\n      <td>7.078071</td>\n      <td>0.000000</td>\n      <td>2.707911</td>\n      <td>5.956817</td>\n      <td>5.037028</td>\n      <td>1.792351</td>\n      <td>...</td>\n      <td>2.382959</td>\n      <td>0.0</td>\n      <td>1.110701</td>\n      <td>0.000000</td>\n      <td>0.000000</td>\n      <td>2.821835</td>\n      <td>0.0</td>\n      <td>4.723948</td>\n      <td>3.026945</td>\n      <td>0.000000</td>\n    </tr>\n    <tr>\n      <th>2</th>\n      <td>0.000000</td>\n      <td>2.993616</td>\n      <td>149.788109</td>\n      <td>0.000000</td>\n      <td>0.000000</td>\n      <td>0.000000</td>\n      <td>0.000000</td>\n      <td>4.681828</td>\n      <td>4.058200</td>\n      <td>1.433300</td>\n      <td>...</td>\n      <td>7.748826</td>\n      <td>0.0</td>\n      <td>0.000000</td>\n      <td>0.000000</td>\n      <td>3.550886</td>\n      <td>0.000000</td>\n      <td>0.0</td>\n      <td>2.921650</td>\n      <td>0.000000</td>\n      <td>1.433300</td>\n    </tr>\n    <tr>\n      <th>3</th>\n      <td>5.607690</td>\n      <td>0.000000</td>\n      <td>0.000000</td>\n      <td>221.106887</td>\n      <td>3.192287</td>\n      <td>0.000000</td>\n      <td>5.892955</td>\n      <td>7.055147</td>\n      <td>6.388300</td>\n      <td>18.938899</td>\n      <td>...</td>\n      <td>0.000000</td>\n      <td>0.0</td>\n      <td>2.985986</td>\n      <td>0.000000</td>\n      <td>0.000000</td>\n      <td>0.000000</td>\n      <td>0.0</td>\n      <td>8.377811</td>\n      <td>7.000089</td>\n      <td>7.446661</td>\n    </tr>\n    <tr>\n      <th>4</th>\n      <td>8.388436</td>\n      <td>10.002182</td>\n      <td>0.000000</td>\n      <td>2.787245</td>\n      <td>181.520289</td>\n      <td>0.000000</td>\n      <td>5.605415</td>\n      <td>7.507656</td>\n      <td>0.000000</td>\n      <td>6.802209</td>\n      <td>...</td>\n      <td>4.765918</td>\n      <td>0.0</td>\n      <td>0.000000</td>\n      <td>0.000000</td>\n      <td>0.000000</td>\n      <td>3.102177</td>\n      <td>0.0</td>\n      <td>3.375549</td>\n      <td>0.000000</td>\n      <td>0.000000</td>\n    </tr>\n  </tbody>\n</table>\n<p>5 rows × 4800 columns</p>\n</div>"
     },
     "metadata": {},
     "execution_count": 168
    }
   ],
   "source": [
    "bm25 = get_bm25_weights(norm_corpus_tokens)\n",
    "# movie similarities\n",
    "bm25_df = pd.DataFrame(bm25)\n",
    "bm25_df.head()"
   ]
  },
  {
   "source": [
    "Get popular movies similarities"
   ],
   "cell_type": "markdown",
   "metadata": {}
  },
  {
   "cell_type": "code",
   "execution_count": 169,
   "metadata": {},
   "outputs": [
    {
     "output_type": "stream",
     "name": "stdout",
     "text": [
      "Movie: Minions\nTop 5 recommanded movies ['Despicable Me 2' 'Despicable Me'\n 'Teenage Mutant Ninja Turtles: Out of the Shadows' 'Superman'\n 'Rise of the Guardians']\n\nMovie: Interstellar\nTop 5 recommanded movies ['Gattaca' 'Space Cowboys' 'Space Pirate Captain Harlock'\n 'Starship Troopers' 'Final Destination 2']\n\nMovie: Deadpool\nTop 5 recommanded movies ['Silent Trigger' 'Underworld: Evolution' 'Mars Attacks!' 'Bronson'\n 'Shaft']\n\nMovie: Jurassic World\nTop 5 recommanded movies ['Jurassic Park' 'The Lost World: Jurassic Park' 'The Nut Job'\n \"National Lampoon's Vacation\" 'Vacation']\n\nMovie: Pirates of the Caribbean: The Curse of the Black Pearl\nTop 5 recommanded movies [\"Pirates of the Caribbean: Dead Man's Chest\" 'The Pirate'\n 'Pirates of the Caribbean: On Stranger Tides'\n 'The Pirates! In an Adventure with Scientists!' 'Joyful Noise']\n\nMovie: Dawn of the Planet of the Apes\nTop 5 recommanded movies ['Battle for the Planet of the Apes' 'Groove' 'The Other End of the Line'\n 'Chicago Overcoat' 'Definitely, Maybe']\n\nMovie: Terminator Genisys\nTop 5 recommanded movies ['Terminator 2: Judgment Day' 'Terminator Salvation'\n 'Terminator 3: Rise of the Machines' 'Mad Max'\n 'X-Men: Days of Future Past']\n\nMovie: Captain America: Civil War\nTop 5 recommanded movies ['Captain America: The Winter Soldier' 'This Means War'\n 'Avengers: Age of Ultron' 'Iron Man 2' 'Escape from Tomorrow']\n\nMovie: The Dark Knight\nTop 5 recommanded movies ['The Dark Knight Rises' 'Batman Forever' 'Batman Returns'\n 'Batman: The Dark Knight Returns, Part 2' 'Slow Burn']\n\nMovie: The Martian\nTop 5 recommanded movies ['The Last Days on Mars' 'Swept Away' 'Alive' 'All Is Lost' 'Red Planet']\n\nMovie: Batman v Superman: Dawn of Justice\nTop 5 recommanded movies ['Batman Returns' 'The Punisher' 'Batman: The Dark Knight Returns, Part 2'\n 'Defendor' 'Nowhere to Run']\n\nMovie: Pulp Fiction\nTop 5 recommanded movies ['Sliding Doors' 'New York Stories' 'You Kill Me' 'Timecrimes'\n 'All or Nothing']\n\nMovie: The Godfather\nTop 5 recommanded movies ['The Godfather: Part II' 'Blood Ties' 'Made' 'Lords of London'\n 'Mickey Blue Eyes']\n\nMovie: The Shawshank Redemption\nTop 5 recommanded movies ['Civil Brand' 'Les Misérables' 'Prison' 'Fortress' 'Escape Plan']\n\nMovie: The Lord of the Rings: The Fellowship of the Ring\nTop 5 recommanded movies ['The Lord of the Rings: The Two Towers'\n 'The Hobbit: The Desolation of Smaug'\n 'The Lord of the Rings: The Return of the King'\n \"What's the Worst That Could Happen?\" 'The Hobbit: An Unexpected Journey']\n\nMovie: Harry Potter and the Chamber of Secrets\nTop 5 recommanded movies ['Harry Potter and the Prisoner of Azkaban'\n 'Harry Potter and the Goblet of Fire'\n 'Harry Potter and the Order of the Phoenix'\n 'Harry Potter and the Half-Blood Prince'\n \"Harry Potter and the Philosopher's Stone\"]\n\nMovie: The Hobbit: The Battle of the Five Armies\nTop 5 recommanded movies ['The Hobbit: The Desolation of Smaug' 'The Hobbit: An Unexpected Journey'\n \"Dragon Nest: Warriors' Dawn\"\n 'A Funny Thing Happened on the Way to the Forum' 'X-Men: Apocalypse']\n\nMovie: Iron Man\nTop 5 recommanded movies ['Iron Man 2' 'Avengers: Age of Ultron' 'Hostage'\n 'Baahubali: The Beginning' 'Iron Man 3']\n\n"
     ]
    }
   ],
   "source": [
    "for movie in pop_mvs:\n",
    "    print('Movie:', movie)\n",
    "    print('Top 5 recommanded movies', movie_recommander(movie_title=movie,mov_sim= bm25_df))\n",
    "    print()"
   ]
  },
  {
   "cell_type": "code",
   "execution_count": null,
   "metadata": {},
   "outputs": [],
   "source": []
  }
 ]
}