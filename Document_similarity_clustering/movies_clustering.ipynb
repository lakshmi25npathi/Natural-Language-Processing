{
 "metadata": {
  "language_info": {
   "codemirror_mode": {
    "name": "ipython",
    "version": 3
   },
   "file_extension": ".py",
   "mimetype": "text/x-python",
   "name": "python",
   "nbconvert_exporter": "python",
   "pygments_lexer": "ipython3",
   "version": "3.6.9-final"
  },
  "orig_nbformat": 2,
  "kernelspec": {
   "name": "python3",
   "display_name": "Python 3",
   "language": "python"
  }
 },
 "nbformat": 4,
 "nbformat_minor": 2,
 "cells": [
  {
   "source": [
    "## Movie recommender system with document similarity ##"
   ],
   "cell_type": "markdown",
   "metadata": {}
  },
  {
   "source": [
    "Clustering of movies by using Clustering alogirthms,\n",
    "\n",
    "1. K-Means Clustering\n",
    "2. Affinity propagation\n",
    "3. Agglomerative Hierarchical clustering\n",
    "\n"
   ],
   "cell_type": "markdown",
   "metadata": {}
  },
  {
   "source": [
    "Import the required libraries"
   ],
   "cell_type": "markdown",
   "metadata": {}
  },
  {
   "cell_type": "code",
   "execution_count": 51,
   "metadata": {},
   "outputs": [],
   "source": [
    "import pandas as pd \n",
    "import nltk\n",
    "from nltk.tokenize import word_tokenize\n",
    "import re\n",
    "import numpy as np \n",
    "from sklearn.feature_extraction.text import TfidfVectorizer,CountVectorizer\n",
    "from sklearn.cluster import KMeans\n",
    "from collections import Counter\n",
    "from sklearn.metrics.pairwise import cosine_similarity\n",
    "from sklearn.cluster import AffinityPropagation"
   ]
  },
  {
   "source": [
    "Load tmdb dataset"
   ],
   "cell_type": "markdown",
   "metadata": {}
  },
  {
   "cell_type": "code",
   "execution_count": 5,
   "metadata": {},
   "outputs": [
    {
     "output_type": "execute_result",
     "data": {
      "text/plain": [
       "      budget                                             genres  \\\n",
       "0  237000000  [{\"id\": 28, \"name\": \"Action\"}, {\"id\": 12, \"nam...   \n",
       "1  300000000  [{\"id\": 12, \"name\": \"Adventure\"}, {\"id\": 14, \"...   \n",
       "2  245000000  [{\"id\": 28, \"name\": \"Action\"}, {\"id\": 12, \"nam...   \n",
       "3  250000000  [{\"id\": 28, \"name\": \"Action\"}, {\"id\": 80, \"nam...   \n",
       "4  260000000  [{\"id\": 28, \"name\": \"Action\"}, {\"id\": 12, \"nam...   \n",
       "\n",
       "                                       homepage      id  \\\n",
       "0                   http://www.avatarmovie.com/   19995   \n",
       "1  http://disney.go.com/disneypictures/pirates/     285   \n",
       "2   http://www.sonypictures.com/movies/spectre/  206647   \n",
       "3            http://www.thedarkknightrises.com/   49026   \n",
       "4          http://movies.disney.com/john-carter   49529   \n",
       "\n",
       "                                            keywords original_language  \\\n",
       "0  [{\"id\": 1463, \"name\": \"culture clash\"}, {\"id\":...                en   \n",
       "1  [{\"id\": 270, \"name\": \"ocean\"}, {\"id\": 726, \"na...                en   \n",
       "2  [{\"id\": 470, \"name\": \"spy\"}, {\"id\": 818, \"name...                en   \n",
       "3  [{\"id\": 849, \"name\": \"dc comics\"}, {\"id\": 853,...                en   \n",
       "4  [{\"id\": 818, \"name\": \"based on novel\"}, {\"id\":...                en   \n",
       "\n",
       "                             original_title  \\\n",
       "0                                    Avatar   \n",
       "1  Pirates of the Caribbean: At World's End   \n",
       "2                                   Spectre   \n",
       "3                     The Dark Knight Rises   \n",
       "4                               John Carter   \n",
       "\n",
       "                                            overview  popularity  \\\n",
       "0  In the 22nd century, a paraplegic Marine is di...  150.437577   \n",
       "1  Captain Barbossa, long believed to be dead, ha...  139.082615   \n",
       "2  A cryptic message from Bond’s past sends him o...  107.376788   \n",
       "3  Following the death of District Attorney Harve...  112.312950   \n",
       "4  John Carter is a war-weary, former military ca...   43.926995   \n",
       "\n",
       "                                production_companies  \\\n",
       "0  [{\"name\": \"Ingenious Film Partners\", \"id\": 289...   \n",
       "1  [{\"name\": \"Walt Disney Pictures\", \"id\": 2}, {\"...   \n",
       "2  [{\"name\": \"Columbia Pictures\", \"id\": 5}, {\"nam...   \n",
       "3  [{\"name\": \"Legendary Pictures\", \"id\": 923}, {\"...   \n",
       "4        [{\"name\": \"Walt Disney Pictures\", \"id\": 2}]   \n",
       "\n",
       "                                production_countries release_date     revenue  \\\n",
       "0  [{\"iso_3166_1\": \"US\", \"name\": \"United States o...   2009-12-10  2787965087   \n",
       "1  [{\"iso_3166_1\": \"US\", \"name\": \"United States o...   2007-05-19   961000000   \n",
       "2  [{\"iso_3166_1\": \"GB\", \"name\": \"United Kingdom\"...   2015-10-26   880674609   \n",
       "3  [{\"iso_3166_1\": \"US\", \"name\": \"United States o...   2012-07-16  1084939099   \n",
       "4  [{\"iso_3166_1\": \"US\", \"name\": \"United States o...   2012-03-07   284139100   \n",
       "\n",
       "   runtime                                   spoken_languages    status  \\\n",
       "0    162.0  [{\"iso_639_1\": \"en\", \"name\": \"English\"}, {\"iso...  Released   \n",
       "1    169.0           [{\"iso_639_1\": \"en\", \"name\": \"English\"}]  Released   \n",
       "2    148.0  [{\"iso_639_1\": \"fr\", \"name\": \"Fran\\u00e7ais\"},...  Released   \n",
       "3    165.0           [{\"iso_639_1\": \"en\", \"name\": \"English\"}]  Released   \n",
       "4    132.0           [{\"iso_639_1\": \"en\", \"name\": \"English\"}]  Released   \n",
       "\n",
       "                                          tagline  \\\n",
       "0                     Enter the World of Pandora.   \n",
       "1  At the end of the world, the adventure begins.   \n",
       "2                           A Plan No One Escapes   \n",
       "3                                 The Legend Ends   \n",
       "4            Lost in our world, found in another.   \n",
       "\n",
       "                                      title  vote_average  vote_count  \n",
       "0                                    Avatar           7.2       11800  \n",
       "1  Pirates of the Caribbean: At World's End           6.9        4500  \n",
       "2                                   Spectre           6.3        4466  \n",
       "3                     The Dark Knight Rises           7.6        9106  \n",
       "4                               John Carter           6.1        2124  "
      ],
      "text/html": "<div>\n<style scoped>\n    .dataframe tbody tr th:only-of-type {\n        vertical-align: middle;\n    }\n\n    .dataframe tbody tr th {\n        vertical-align: top;\n    }\n\n    .dataframe thead th {\n        text-align: right;\n    }\n</style>\n<table border=\"1\" class=\"dataframe\">\n  <thead>\n    <tr style=\"text-align: right;\">\n      <th></th>\n      <th>budget</th>\n      <th>genres</th>\n      <th>homepage</th>\n      <th>id</th>\n      <th>keywords</th>\n      <th>original_language</th>\n      <th>original_title</th>\n      <th>overview</th>\n      <th>popularity</th>\n      <th>production_companies</th>\n      <th>production_countries</th>\n      <th>release_date</th>\n      <th>revenue</th>\n      <th>runtime</th>\n      <th>spoken_languages</th>\n      <th>status</th>\n      <th>tagline</th>\n      <th>title</th>\n      <th>vote_average</th>\n      <th>vote_count</th>\n    </tr>\n  </thead>\n  <tbody>\n    <tr>\n      <th>0</th>\n      <td>237000000</td>\n      <td>[{\"id\": 28, \"name\": \"Action\"}, {\"id\": 12, \"nam...</td>\n      <td>http://www.avatarmovie.com/</td>\n      <td>19995</td>\n      <td>[{\"id\": 1463, \"name\": \"culture clash\"}, {\"id\":...</td>\n      <td>en</td>\n      <td>Avatar</td>\n      <td>In the 22nd century, a paraplegic Marine is di...</td>\n      <td>150.437577</td>\n      <td>[{\"name\": \"Ingenious Film Partners\", \"id\": 289...</td>\n      <td>[{\"iso_3166_1\": \"US\", \"name\": \"United States o...</td>\n      <td>2009-12-10</td>\n      <td>2787965087</td>\n      <td>162.0</td>\n      <td>[{\"iso_639_1\": \"en\", \"name\": \"English\"}, {\"iso...</td>\n      <td>Released</td>\n      <td>Enter the World of Pandora.</td>\n      <td>Avatar</td>\n      <td>7.2</td>\n      <td>11800</td>\n    </tr>\n    <tr>\n      <th>1</th>\n      <td>300000000</td>\n      <td>[{\"id\": 12, \"name\": \"Adventure\"}, {\"id\": 14, \"...</td>\n      <td>http://disney.go.com/disneypictures/pirates/</td>\n      <td>285</td>\n      <td>[{\"id\": 270, \"name\": \"ocean\"}, {\"id\": 726, \"na...</td>\n      <td>en</td>\n      <td>Pirates of the Caribbean: At World's End</td>\n      <td>Captain Barbossa, long believed to be dead, ha...</td>\n      <td>139.082615</td>\n      <td>[{\"name\": \"Walt Disney Pictures\", \"id\": 2}, {\"...</td>\n      <td>[{\"iso_3166_1\": \"US\", \"name\": \"United States o...</td>\n      <td>2007-05-19</td>\n      <td>961000000</td>\n      <td>169.0</td>\n      <td>[{\"iso_639_1\": \"en\", \"name\": \"English\"}]</td>\n      <td>Released</td>\n      <td>At the end of the world, the adventure begins.</td>\n      <td>Pirates of the Caribbean: At World's End</td>\n      <td>6.9</td>\n      <td>4500</td>\n    </tr>\n    <tr>\n      <th>2</th>\n      <td>245000000</td>\n      <td>[{\"id\": 28, \"name\": \"Action\"}, {\"id\": 12, \"nam...</td>\n      <td>http://www.sonypictures.com/movies/spectre/</td>\n      <td>206647</td>\n      <td>[{\"id\": 470, \"name\": \"spy\"}, {\"id\": 818, \"name...</td>\n      <td>en</td>\n      <td>Spectre</td>\n      <td>A cryptic message from Bond’s past sends him o...</td>\n      <td>107.376788</td>\n      <td>[{\"name\": \"Columbia Pictures\", \"id\": 5}, {\"nam...</td>\n      <td>[{\"iso_3166_1\": \"GB\", \"name\": \"United Kingdom\"...</td>\n      <td>2015-10-26</td>\n      <td>880674609</td>\n      <td>148.0</td>\n      <td>[{\"iso_639_1\": \"fr\", \"name\": \"Fran\\u00e7ais\"},...</td>\n      <td>Released</td>\n      <td>A Plan No One Escapes</td>\n      <td>Spectre</td>\n      <td>6.3</td>\n      <td>4466</td>\n    </tr>\n    <tr>\n      <th>3</th>\n      <td>250000000</td>\n      <td>[{\"id\": 28, \"name\": \"Action\"}, {\"id\": 80, \"nam...</td>\n      <td>http://www.thedarkknightrises.com/</td>\n      <td>49026</td>\n      <td>[{\"id\": 849, \"name\": \"dc comics\"}, {\"id\": 853,...</td>\n      <td>en</td>\n      <td>The Dark Knight Rises</td>\n      <td>Following the death of District Attorney Harve...</td>\n      <td>112.312950</td>\n      <td>[{\"name\": \"Legendary Pictures\", \"id\": 923}, {\"...</td>\n      <td>[{\"iso_3166_1\": \"US\", \"name\": \"United States o...</td>\n      <td>2012-07-16</td>\n      <td>1084939099</td>\n      <td>165.0</td>\n      <td>[{\"iso_639_1\": \"en\", \"name\": \"English\"}]</td>\n      <td>Released</td>\n      <td>The Legend Ends</td>\n      <td>The Dark Knight Rises</td>\n      <td>7.6</td>\n      <td>9106</td>\n    </tr>\n    <tr>\n      <th>4</th>\n      <td>260000000</td>\n      <td>[{\"id\": 28, \"name\": \"Action\"}, {\"id\": 12, \"nam...</td>\n      <td>http://movies.disney.com/john-carter</td>\n      <td>49529</td>\n      <td>[{\"id\": 818, \"name\": \"based on novel\"}, {\"id\":...</td>\n      <td>en</td>\n      <td>John Carter</td>\n      <td>John Carter is a war-weary, former military ca...</td>\n      <td>43.926995</td>\n      <td>[{\"name\": \"Walt Disney Pictures\", \"id\": 2}]</td>\n      <td>[{\"iso_3166_1\": \"US\", \"name\": \"United States o...</td>\n      <td>2012-03-07</td>\n      <td>284139100</td>\n      <td>132.0</td>\n      <td>[{\"iso_639_1\": \"en\", \"name\": \"English\"}]</td>\n      <td>Released</td>\n      <td>Lost in our world, found in another.</td>\n      <td>John Carter</td>\n      <td>6.1</td>\n      <td>2124</td>\n    </tr>\n  </tbody>\n</table>\n</div>"
     },
     "metadata": {},
     "execution_count": 5
    }
   ],
   "source": [
    "df = pd.read_csv('./tmdb_dataset/tmdb_5000_movies.csv')\n",
    "df.head()"
   ]
  },
  {
   "source": [
    "Let us explore dataset"
   ],
   "cell_type": "markdown",
   "metadata": {}
  },
  {
   "cell_type": "code",
   "execution_count": 6,
   "metadata": {},
   "outputs": [
    {
     "output_type": "stream",
     "name": "stdout",
     "text": [
      "<class 'pandas.core.frame.DataFrame'>\nRangeIndex: 4803 entries, 0 to 4802\nData columns (total 20 columns):\n #   Column                Non-Null Count  Dtype  \n---  ------                --------------  -----  \n 0   budget                4803 non-null   int64  \n 1   genres                4803 non-null   object \n 2   homepage              1712 non-null   object \n 3   id                    4803 non-null   int64  \n 4   keywords              4803 non-null   object \n 5   original_language     4803 non-null   object \n 6   original_title        4803 non-null   object \n 7   overview              4800 non-null   object \n 8   popularity            4803 non-null   float64\n 9   production_companies  4803 non-null   object \n 10  production_countries  4803 non-null   object \n 11  release_date          4802 non-null   object \n 12  revenue               4803 non-null   int64  \n 13  runtime               4801 non-null   float64\n 14  spoken_languages      4803 non-null   object \n 15  status                4803 non-null   object \n 16  tagline               3959 non-null   object \n 17  title                 4803 non-null   object \n 18  vote_average          4803 non-null   float64\n 19  vote_count            4803 non-null   int64  \ndtypes: float64(3), int64(4), object(13)\nmemory usage: 750.6+ KB\n"
     ]
    }
   ],
   "source": [
    "df.info()"
   ]
  },
  {
   "source": [
    "We do not want all variables for content based recommenders. We will select some variables from dataset."
   ],
   "cell_type": "markdown",
   "metadata": {}
  },
  {
   "cell_type": "code",
   "execution_count": 7,
   "metadata": {},
   "outputs": [
    {
     "output_type": "stream",
     "name": "stdout",
     "text": [
      "<class 'pandas.core.frame.DataFrame'>\nInt64Index: 4800 entries, 0 to 4802\nData columns (total 6 columns):\n #   Column       Non-Null Count  Dtype  \n---  ------       --------------  -----  \n 0   overview     4800 non-null   object \n 1   popularity   4800 non-null   float64\n 2   tagline      4800 non-null   object \n 3   title        4800 non-null   object \n 4   genres       4800 non-null   object \n 5   description  4800 non-null   object \ndtypes: float64(1), object(5)\nmemory usage: 262.5+ KB\n"
     ]
    }
   ],
   "source": [
    "df = df[['overview','popularity','tagline','title','genres']]\n",
    "df.tagline.fillna(' ',inplace=True)\n",
    "# Create a new variable \"Description\" by combaining tagline and overview\n",
    "df['description'] = df['tagline'].map(str)+' '+ df['overview']\n",
    "df.dropna(inplace=True)\n",
    "df.info()"
   ]
  },
  {
   "cell_type": "code",
   "execution_count": 8,
   "metadata": {},
   "outputs": [
    {
     "output_type": "execute_result",
     "data": {
      "text/plain": [
       "                                            overview  popularity  \\\n",
       "0  In the 22nd century, a paraplegic Marine is di...  150.437577   \n",
       "1  Captain Barbossa, long believed to be dead, ha...  139.082615   \n",
       "2  A cryptic message from Bond’s past sends him o...  107.376788   \n",
       "3  Following the death of District Attorney Harve...  112.312950   \n",
       "4  John Carter is a war-weary, former military ca...   43.926995   \n",
       "\n",
       "                                          tagline  \\\n",
       "0                     Enter the World of Pandora.   \n",
       "1  At the end of the world, the adventure begins.   \n",
       "2                           A Plan No One Escapes   \n",
       "3                                 The Legend Ends   \n",
       "4            Lost in our world, found in another.   \n",
       "\n",
       "                                      title  \\\n",
       "0                                    Avatar   \n",
       "1  Pirates of the Caribbean: At World's End   \n",
       "2                                   Spectre   \n",
       "3                     The Dark Knight Rises   \n",
       "4                               John Carter   \n",
       "\n",
       "                                              genres  \\\n",
       "0  [{\"id\": 28, \"name\": \"Action\"}, {\"id\": 12, \"nam...   \n",
       "1  [{\"id\": 12, \"name\": \"Adventure\"}, {\"id\": 14, \"...   \n",
       "2  [{\"id\": 28, \"name\": \"Action\"}, {\"id\": 12, \"nam...   \n",
       "3  [{\"id\": 28, \"name\": \"Action\"}, {\"id\": 80, \"nam...   \n",
       "4  [{\"id\": 28, \"name\": \"Action\"}, {\"id\": 12, \"nam...   \n",
       "\n",
       "                                         description  \n",
       "0  Enter the World of Pandora. In the 22nd centur...  \n",
       "1  At the end of the world, the adventure begins....  \n",
       "2  A Plan No One Escapes A cryptic message from B...  \n",
       "3  The Legend Ends Following the death of Distric...  \n",
       "4  Lost in our world, found in another. John Cart...  "
      ],
      "text/html": "<div>\n<style scoped>\n    .dataframe tbody tr th:only-of-type {\n        vertical-align: middle;\n    }\n\n    .dataframe tbody tr th {\n        vertical-align: top;\n    }\n\n    .dataframe thead th {\n        text-align: right;\n    }\n</style>\n<table border=\"1\" class=\"dataframe\">\n  <thead>\n    <tr style=\"text-align: right;\">\n      <th></th>\n      <th>overview</th>\n      <th>popularity</th>\n      <th>tagline</th>\n      <th>title</th>\n      <th>genres</th>\n      <th>description</th>\n    </tr>\n  </thead>\n  <tbody>\n    <tr>\n      <th>0</th>\n      <td>In the 22nd century, a paraplegic Marine is di...</td>\n      <td>150.437577</td>\n      <td>Enter the World of Pandora.</td>\n      <td>Avatar</td>\n      <td>[{\"id\": 28, \"name\": \"Action\"}, {\"id\": 12, \"nam...</td>\n      <td>Enter the World of Pandora. In the 22nd centur...</td>\n    </tr>\n    <tr>\n      <th>1</th>\n      <td>Captain Barbossa, long believed to be dead, ha...</td>\n      <td>139.082615</td>\n      <td>At the end of the world, the adventure begins.</td>\n      <td>Pirates of the Caribbean: At World's End</td>\n      <td>[{\"id\": 12, \"name\": \"Adventure\"}, {\"id\": 14, \"...</td>\n      <td>At the end of the world, the adventure begins....</td>\n    </tr>\n    <tr>\n      <th>2</th>\n      <td>A cryptic message from Bond’s past sends him o...</td>\n      <td>107.376788</td>\n      <td>A Plan No One Escapes</td>\n      <td>Spectre</td>\n      <td>[{\"id\": 28, \"name\": \"Action\"}, {\"id\": 12, \"nam...</td>\n      <td>A Plan No One Escapes A cryptic message from B...</td>\n    </tr>\n    <tr>\n      <th>3</th>\n      <td>Following the death of District Attorney Harve...</td>\n      <td>112.312950</td>\n      <td>The Legend Ends</td>\n      <td>The Dark Knight Rises</td>\n      <td>[{\"id\": 28, \"name\": \"Action\"}, {\"id\": 80, \"nam...</td>\n      <td>The Legend Ends Following the death of Distric...</td>\n    </tr>\n    <tr>\n      <th>4</th>\n      <td>John Carter is a war-weary, former military ca...</td>\n      <td>43.926995</td>\n      <td>Lost in our world, found in another.</td>\n      <td>John Carter</td>\n      <td>[{\"id\": 28, \"name\": \"Action\"}, {\"id\": 12, \"nam...</td>\n      <td>Lost in our world, found in another. John Cart...</td>\n    </tr>\n  </tbody>\n</table>\n</div>"
     },
     "metadata": {},
     "execution_count": 8
    }
   ],
   "source": [
    "df.head()"
   ]
  },
  {
   "cell_type": "code",
   "execution_count": 9,
   "metadata": {},
   "outputs": [
    {
     "output_type": "stream",
     "name": "stdout",
     "text": [
      "<class 'pandas.core.frame.DataFrame'>\nInt64Index: 4800 entries, 0 to 4802\nData columns (total 6 columns):\n #   Column       Non-Null Count  Dtype  \n---  ------       --------------  -----  \n 0   overview     4800 non-null   object \n 1   popularity   4800 non-null   float64\n 2   tagline      4800 non-null   object \n 3   title        4800 non-null   object \n 4   genres       4800 non-null   object \n 5   description  4800 non-null   object \ndtypes: float64(1), object(5)\nmemory usage: 262.5+ KB\n"
     ]
    }
   ],
   "source": [
    "df.info()"
   ]
  },
  {
   "source": [
    "Text preprocessing"
   ],
   "cell_type": "markdown",
   "metadata": {}
  },
  {
   "cell_type": "code",
   "execution_count": 10,
   "metadata": {},
   "outputs": [
    {
     "output_type": "stream",
     "name": "stderr",
     "text": [
      "[nltk_data] Downloading package punkt to /home/csuser/nltk_data...\n[nltk_data]   Package punkt is already up-to-date!\n"
     ]
    }
   ],
   "source": [
    "nltk.download('punkt')\n",
    "#removing stop words\n",
    "stop_words = nltk.corpus.stopwords.words('english')\n",
    "\n",
    "# Normalization of each document\n",
    "def normalize_doc(doc):\n",
    "    # lowercase and remove special characters\\whitespace\n",
    "    doc = re.sub(r'[^a-zA-Z\\s]', '', doc, re.I|re.A)\n",
    "    doc = doc.lower()\n",
    "    doc = doc.strip()\n",
    "    # tokenize document\n",
    "    tokens = nltk.word_tokenize(doc)\n",
    "    # filter stopwords out of document\n",
    "    filtered_tokens = [token for token in tokens if token not in stop_words]\n",
    "    # re-create document from filtered tokens\n",
    "    doc = ' '.join(filtered_tokens)\n",
    "    return doc\n",
    "\n",
    "norm_corpus = np.vectorize(normalize_doc)"
   ]
  },
  {
   "cell_type": "code",
   "execution_count": 11,
   "metadata": {},
   "outputs": [
    {
     "output_type": "execute_result",
     "data": {
      "text/plain": [
       "4800"
      ]
     },
     "metadata": {},
     "execution_count": 11
    }
   ],
   "source": [
    "norm_corpus = norm_corpus(list(df['description']))\n",
    "len(norm_corpus)"
   ]
  },
  {
   "source": [
    "Extract td-idf features "
   ],
   "cell_type": "markdown",
   "metadata": {}
  },
  {
   "cell_type": "code",
   "execution_count": 17,
   "metadata": {},
   "outputs": [
    {
     "output_type": "execute_result",
     "data": {
      "text/plain": [
       "(4800, 2986)"
      ]
     },
     "metadata": {},
     "execution_count": 17
    }
   ],
   "source": [
    "cv = CountVectorizer(ngram_range=(1,2), min_df=10, max_df=0.8, stop_words=stop_words)\n",
    "cv_matrix = cv.fit_transform(norm_corpus)\n",
    "cv_matrix.shape"
   ]
  },
  {
   "source": [
    "K-Means Clustering"
   ],
   "cell_type": "markdown",
   "metadata": {}
  },
  {
   "cell_type": "code",
   "execution_count": 24,
   "metadata": {},
   "outputs": [
    {
     "output_type": "execute_result",
     "data": {
      "text/plain": [
       "array([[7.28010989, 3.6519611 , 3.9817426 , 3.98029933, 3.75893985],\n",
       "       [7.54983444, 4.31573155, 4.59718735, 4.32598568, 4.44311375],\n",
       "       [7.93725393, 5.21784641, 5.24621038, 5.23742411, 5.06494748],\n",
       "       ...,\n",
       "       [8.24621125, 5.59092354, 5.81154542, 5.81162711, 5.68566806],\n",
       "       [8.71779789, 6.12085998, 5.65894112, 6.12946221, 6.04096558],\n",
       "       [8.60232527, 5.98247229, 5.78325812, 5.95921267, 5.86495327]])"
      ]
     },
     "metadata": {},
     "execution_count": 24
    }
   ],
   "source": [
    "km = KMeans(n_clusters=5, max_iter=10000,n_init=60,random_state=34 )\n",
    "km.fit_transform(cv_matrix)"
   ]
  },
  {
   "cell_type": "code",
   "execution_count": 25,
   "metadata": {},
   "outputs": [],
   "source": [
    "df['kmeans_cluster'] = km.labels_\n",
    "df.head(10)"
   ]
  },
  {
   "source": [
    "Viewing the distribution of movies across the clusters "
   ],
   "cell_type": "markdown",
   "metadata": {}
  },
  {
   "cell_type": "code",
   "execution_count": 27,
   "metadata": {},
   "outputs": [
    {
     "output_type": "execute_result",
     "data": {
      "text/plain": [
       "Counter({1: 523, 4: 2992, 2: 561, 3: 723, 0: 1})"
      ]
     },
     "metadata": {},
     "execution_count": 27
    }
   ],
   "source": [
    "Counter(km.labels_)"
   ]
  },
  {
   "source": [
    "Let us most popular movies in each cluster,"
   ],
   "cell_type": "markdown",
   "metadata": {}
  },
  {
   "cell_type": "code",
   "execution_count": 29,
   "metadata": {},
   "outputs": [],
   "source": [
    "movie_clusters = (df[['title','kmeans_cluster','popularity']].sort_values(by=['kmeans_cluster','popularity']).groupby('kmeans_cluster').head(10))\n",
    "movie_clusters = movie_clusters.copy(deep=True)"
   ]
  },
  {
   "cell_type": "code",
   "execution_count": 43,
   "metadata": {},
   "outputs": [
    {
     "output_type": "stream",
     "name": "stdout",
     "text": [
      "Cluster 1\nkey features ['childhood', 'friend', 'journey', 'hot', 'lives', 'friends', 'apart', 'discover', 'fourth', 'three friends', 'attempting', 'call', 'three']\nPopular Movies ['Without a Paddle']\n***********************************************************************************************************\nCluster 2\nkey features ['world', 'war', 'story', 'young', 'world war', 'man', 'find', 'new', 'must', 'save', 'time', 'love', 'evil']\nPopular Movies [\"Anderson's Cross\", '8 Days', 'Antarctic Edge: 70° South', 'Proud', 'Sharkskin', 'On The Downlow', 'Rise of the Entrepreneur: The Search for a Better Way', \"A Beginner's Guide to Snuff\", 'Broken Vessels', 'Heroes of Dirt']\n***********************************************************************************************************\nCluster 3\nkey features ['new', 'york', 'new york', 'city', 'young', 'family', 'love', 'man', 'york city', 'years', 'friends', 'find', 'must']\nPopular Movies ['Hav Plenty', 'Four Single Fathers', 'An American in Hollywood', 'Betty Fisher and Other Stories', 'The Algerian', 'Guiana 1838', 'Gory Gory Hallelujah', 'Urbania', 'The Nutcracker', 'The Sound and the Shadow']\n***********************************************************************************************************\nCluster 4\nkey features ['life', 'love', 'man', 'story', 'family', 'young', 'new', 'back', 'years', 'finds', 'time', 'find', 'hes']\nPopular Movies ['Smiling Fish & Goat On Fire', 'Butterfly Girl', 'The Book of Mormon Movie, Volume 1: The Journey', 'Quinceañera', 'Theresa Is a Mother', 'Manito', 'Dolphins and Whales: Tribes of the Ocean', 'Dry Spell', 'To Save A Life', 'Bran Nue Dae']\n***********************************************************************************************************\nCluster 5\nkey features ['young', 'man', 'story', 'love', 'family', 'find', 'must', 'time', 'back', 'friends', 'years', 'way', 'film']\nPopular Movies ['America Is Still the Place', 'Alien Zone', 'Penitentiary', 'Hum To Mohabbat Karega', 'Midnight Cabaret', 'Love Letters', 'Down & Out With The Dolls', 'The Work and The Story', 'Fabled', \"The Legend of God's Gun\"]\n***********************************************************************************************************\n"
     ]
    }
   ],
   "source": [
    "feature_names = cv.get_feature_names()\n",
    "top_nfeatures = 13\n",
    "order_centroids = km.cluster_centers_.argsort()[:,::-1]\n",
    "\n",
    "# get key features and movies for each cluster\n",
    "num_clusters = 5\n",
    "for cluster_num in range(num_clusters):\n",
    "    key_features = [feature_names[index] for index in order_centroids[cluster_num,:top_nfeatures]]\n",
    "    movies = movie_clusters[movie_clusters['kmeans_cluster'] == cluster_num]['title'] .values.tolist ()\n",
    "    print('Cluster '+str(cluster_num+1))\n",
    "    print('key features',key_features)\n",
    "    print('Popular Movies',movies)\n",
    "    print('*'*107)"
   ]
  },
  {
   "source": [
    "Clustering by cosine similarities"
   ],
   "cell_type": "markdown",
   "metadata": {}
  },
  {
   "cell_type": "code",
   "execution_count": 45,
   "metadata": {},
   "outputs": [
    {
     "output_type": "execute_result",
     "data": {
      "text/plain": [
       "array([[1.97530605, 3.08274383, 2.40553603, 2.96363438, 2.84530743],\n",
       "       [2.65833149, 2.48319555, 3.04908495, 3.22593932, 3.18335888],\n",
       "       [2.61583361, 2.88562468, 2.09989486, 2.7989796 , 2.73614097],\n",
       "       ...,\n",
       "       [2.1603031 , 2.86633778, 2.40104916, 2.79209865, 2.72830537],\n",
       "       [3.33286562, 3.41100297, 3.20298224, 2.10378656, 3.42878436],\n",
       "       [2.90525791, 2.94061459, 2.58016964, 2.40753059, 2.90487785]])"
      ]
     },
     "metadata": {},
     "execution_count": 45
    }
   ],
   "source": [
    "cosine_sim_features = cosine_similarity(cv_matrix)\n",
    "km = KMeans(n_clusters=5, max_iter=10000,n_init=60,random_state=34 )\n",
    "km.fit_transform(cosine_sim_features)"
   ]
  },
  {
   "source": [
    "df['kmeans_cluster'] = km.labels_\n",
    "df.head()"
   ],
   "cell_type": "code",
   "metadata": {},
   "execution_count": 46,
   "outputs": [
    {
     "output_type": "execute_result",
     "data": {
      "text/plain": [
       "                                            overview  popularity  \\\n",
       "0  In the 22nd century, a paraplegic Marine is di...  150.437577   \n",
       "1  Captain Barbossa, long believed to be dead, ha...  139.082615   \n",
       "2  A cryptic message from Bond’s past sends him o...  107.376788   \n",
       "3  Following the death of District Attorney Harve...  112.312950   \n",
       "4  John Carter is a war-weary, former military ca...   43.926995   \n",
       "\n",
       "                                          tagline  \\\n",
       "0                     Enter the World of Pandora.   \n",
       "1  At the end of the world, the adventure begins.   \n",
       "2                           A Plan No One Escapes   \n",
       "3                                 The Legend Ends   \n",
       "4            Lost in our world, found in another.   \n",
       "\n",
       "                                      title  \\\n",
       "0                                    Avatar   \n",
       "1  Pirates of the Caribbean: At World's End   \n",
       "2                                   Spectre   \n",
       "3                     The Dark Knight Rises   \n",
       "4                               John Carter   \n",
       "\n",
       "                                              genres  \\\n",
       "0  [{\"id\": 28, \"name\": \"Action\"}, {\"id\": 12, \"nam...   \n",
       "1  [{\"id\": 12, \"name\": \"Adventure\"}, {\"id\": 14, \"...   \n",
       "2  [{\"id\": 28, \"name\": \"Action\"}, {\"id\": 12, \"nam...   \n",
       "3  [{\"id\": 28, \"name\": \"Action\"}, {\"id\": 80, \"nam...   \n",
       "4  [{\"id\": 28, \"name\": \"Action\"}, {\"id\": 12, \"nam...   \n",
       "\n",
       "                                         description  kmeans_cluster  \n",
       "0  Enter the World of Pandora. In the 22nd centur...               0  \n",
       "1  At the end of the world, the adventure begins....               1  \n",
       "2  A Plan No One Escapes A cryptic message from B...               2  \n",
       "3  The Legend Ends Following the death of Distric...               3  \n",
       "4  Lost in our world, found in another. John Cart...               0  "
      ],
      "text/html": "<div>\n<style scoped>\n    .dataframe tbody tr th:only-of-type {\n        vertical-align: middle;\n    }\n\n    .dataframe tbody tr th {\n        vertical-align: top;\n    }\n\n    .dataframe thead th {\n        text-align: right;\n    }\n</style>\n<table border=\"1\" class=\"dataframe\">\n  <thead>\n    <tr style=\"text-align: right;\">\n      <th></th>\n      <th>overview</th>\n      <th>popularity</th>\n      <th>tagline</th>\n      <th>title</th>\n      <th>genres</th>\n      <th>description</th>\n      <th>kmeans_cluster</th>\n    </tr>\n  </thead>\n  <tbody>\n    <tr>\n      <th>0</th>\n      <td>In the 22nd century, a paraplegic Marine is di...</td>\n      <td>150.437577</td>\n      <td>Enter the World of Pandora.</td>\n      <td>Avatar</td>\n      <td>[{\"id\": 28, \"name\": \"Action\"}, {\"id\": 12, \"nam...</td>\n      <td>Enter the World of Pandora. In the 22nd centur...</td>\n      <td>0</td>\n    </tr>\n    <tr>\n      <th>1</th>\n      <td>Captain Barbossa, long believed to be dead, ha...</td>\n      <td>139.082615</td>\n      <td>At the end of the world, the adventure begins.</td>\n      <td>Pirates of the Caribbean: At World's End</td>\n      <td>[{\"id\": 12, \"name\": \"Adventure\"}, {\"id\": 14, \"...</td>\n      <td>At the end of the world, the adventure begins....</td>\n      <td>1</td>\n    </tr>\n    <tr>\n      <th>2</th>\n      <td>A cryptic message from Bond’s past sends him o...</td>\n      <td>107.376788</td>\n      <td>A Plan No One Escapes</td>\n      <td>Spectre</td>\n      <td>[{\"id\": 28, \"name\": \"Action\"}, {\"id\": 12, \"nam...</td>\n      <td>A Plan No One Escapes A cryptic message from B...</td>\n      <td>2</td>\n    </tr>\n    <tr>\n      <th>3</th>\n      <td>Following the death of District Attorney Harve...</td>\n      <td>112.312950</td>\n      <td>The Legend Ends</td>\n      <td>The Dark Knight Rises</td>\n      <td>[{\"id\": 28, \"name\": \"Action\"}, {\"id\": 80, \"nam...</td>\n      <td>The Legend Ends Following the death of Distric...</td>\n      <td>3</td>\n    </tr>\n    <tr>\n      <th>4</th>\n      <td>John Carter is a war-weary, former military ca...</td>\n      <td>43.926995</td>\n      <td>Lost in our world, found in another.</td>\n      <td>John Carter</td>\n      <td>[{\"id\": 28, \"name\": \"Action\"}, {\"id\": 12, \"nam...</td>\n      <td>Lost in our world, found in another. John Cart...</td>\n      <td>0</td>\n    </tr>\n  </tbody>\n</table>\n</div>"
     },
     "metadata": {},
     "execution_count": 46
    }
   ]
  },
  {
   "source": [
    "Viewing the distribution of movies across the clusters"
   ],
   "cell_type": "markdown",
   "metadata": {}
  },
  {
   "cell_type": "code",
   "execution_count": 47,
   "metadata": {},
   "outputs": [
    {
     "output_type": "execute_result",
     "data": {
      "text/plain": [
       "Counter({0: 448, 1: 718, 2: 2633, 3: 525, 4: 476})"
      ]
     },
     "metadata": {},
     "execution_count": 47
    }
   ],
   "source": [
    "Counter(km.labels_)"
   ]
  },
  {
   "source": [
    "Let us most popular movies in each cluster,"
   ],
   "cell_type": "markdown",
   "metadata": {}
  },
  {
   "cell_type": "code",
   "execution_count": 48,
   "metadata": {},
   "outputs": [],
   "source": [
    "movie_clusters = (df[['title','kmeans_cluster','popularity']].sort_values(by=['kmeans_cluster','popularity']).groupby('kmeans_cluster').head(10))\n",
    "movie_clusters = movie_clusters.copy(deep=True)"
   ]
  },
  {
   "cell_type": "code",
   "execution_count": 50,
   "metadata": {},
   "outputs": [
    {
     "output_type": "stream",
     "name": "stdout",
     "text": [
      "Cluster 1\nPopular Movies [\"Anderson's Cross\", '8 Days', 'Antarctic Edge: 70° South', 'Proud', 'Sharkskin', 'On The Downlow', 'Rise of the Entrepreneur: The Search for a Better Way', \"A Beginner's Guide to Snuff\", 'Broken Vessels', 'Journey from the Fall']\n***********************************************************************************************************\nCluster 2\nPopular Movies ['Smiling Fish & Goat On Fire', 'Butterfly Girl', 'Quinceañera', 'Theresa Is a Mother', 'Manito', 'Dolphins and Whales: Tribes of the Ocean', 'Dry Spell', 'To Save A Life', 'Bran Nue Dae', 'Ayurveda: Art of Being']\n***********************************************************************************************************\nCluster 3\nPopular Movies ['Alien Zone', 'Penitentiary', 'Midnight Cabaret', 'Down & Out With The Dolls', 'The Work and The Story', 'Fabled', \"The Legend of God's Gun\", 'The Young Unknowns', 'Short Cut to Nirvana: Kumbh Mela', 'The Blood of My Brother: A Story of Death in Iraq']\n***********************************************************************************************************\nCluster 4\nPopular Movies ['Hav Plenty', 'Four Single Fathers', 'An American in Hollywood', 'Betty Fisher and Other Stories', 'The Algerian', 'Gory Gory Hallelujah', 'Urbania', 'The Nutcracker', 'The Sound and the Shadow', 'The Jimmy Show']\n***********************************************************************************************************\nCluster 5\nPopular Movies ['America Is Still the Place', 'Hum To Mohabbat Karega', 'Love Letters', 'Death Calls', 'UnDivided', 'The Harvest (La Cosecha)', 'Light from the Darkroom', \"I Love You, Don't Touch Me!\", 'The Outrageous Sophie Tucker', 'The Book of Mormon Movie, Volume 1: The Journey']\n***********************************************************************************************************\n"
     ]
    }
   ],
   "source": [
    "# get key features and movies for each cluster\n",
    "num_clusters = 5\n",
    "for cluster_num in range(num_clusters):\n",
    "    movies = movie_clusters[movie_clusters['kmeans_cluster'] == cluster_num]['title'] .values.tolist ()\n",
    "    print('Cluster '+str(cluster_num+1))\n",
    "    print('Popular Movies',movies)\n",
    "    print('*'*107)"
   ]
  },
  {
   "source": [
    "Affinity propagation clustering to aviod specifying the number of clusters problem. "
   ],
   "cell_type": "markdown",
   "metadata": {}
  },
  {
   "cell_type": "code",
   "execution_count": 52,
   "metadata": {},
   "outputs": [
    {
     "output_type": "execute_result",
     "data": {
      "text/plain": [
       "[(181, 1355),\n",
       " (180, 97),\n",
       " (156, 87),\n",
       " (52, 73),\n",
       " (109, 56),\n",
       " (77, 56),\n",
       " (24, 48),\n",
       " (14, 48),\n",
       " (22, 45),\n",
       " (169, 44)]"
      ]
     },
     "metadata": {},
     "execution_count": 52
    }
   ],
   "source": [
    "ap = AffinityPropagation(max_iter=1000)\n",
    "ap.fit(cosine_sim_features)\n",
    "res = Counter(ap.labels_)\n",
    "res.most_common(10)"
   ]
  },
  {
   "cell_type": "code",
   "execution_count": 53,
   "metadata": {},
   "outputs": [],
   "source": [
    "df['ap_cluster'] = ap.labels_\n",
    "filtered_clusters = [item[0] for item in res.most_common(10)]\n",
    "filtered_df = df[df['ap_cluster'].isin(filtered_clusters)]\n",
    "movie_clusters = (df[['title','ap_cluster','popularity']].sort_values(by=['ap_cluster','popularity']).groupby('ap_cluster').head(10))\n",
    "movie_clusters = movie_clusters.copy(deep=True)"
   ]
  },
  {
   "cell_type": "code",
   "execution_count": 55,
   "metadata": {},
   "outputs": [
    {
     "output_type": "stream",
     "name": "stdout",
     "text": [
      "Cluster 1\nPopular Movies ['My Date with Drew', 'Swimfan', 'She Wore a Yellow Ribbon', 'Friday the 13th Part 2', 'Martha Marcy May Marlene', 'Ride Along', 'Miss Congeniality', 'Tangled', 'Lilo & Stitch', 'Hancock']\n***********************************************************************************************************\nCluster 2\nPopular Movies ['Blue Car', 'Miracle', 'The Abyss', 'Team America: World Police', 'Enchanted', 'Independence Day: Resurgence', 'Coraline', 'The 5th Wave', 'Pitch Perfect 2', 'The Avengers']\n***********************************************************************************************************\nCluster 3\nPopular Movies ['Samantha: An American Girl Holiday', 'Fido', 'The Brothers Bloom', \"A Turtle's Tale: Sammy's Adventures\", 'Ponyo', 'Apocalypto', 'The Last Witch Hunter', 'The Hunger Games', 'Star Trek Into Darkness', 'World War Z']\n***********************************************************************************************************\nCluster 4\nPopular Movies ['Not Cool', 'Signed, Sealed, Delivered', 'Ink', \"Recess: School's Out\", 'Far from Heaven', 'Good Kill', \"Logan's Run\", 'A Nightmare on Elm Street 5: The Dream Child', 'Mortal Kombat', 'Land of the Lost']\n***********************************************************************************************************\nCluster 5\nPopular Movies ['Free Style', 'August', 'Thomas and the Magic Railroad', 'Drumline', 'Queen of the Damned', 'Miss Congeniality 2: Armed and Fabulous', 'Saw II', 'Alice Through the Looking Glass']\n***********************************************************************************************************\nCluster 6\nPopular Movies ['Along the Roadside', 'Griff the Invisible', 'Enter the Dangerous Mind', 'Poetic Justice', 'A Walk on the Moon', 'Fat Albert', 'CJ7', 'Big', 'Robots', 'The NeverEnding Story']\n***********************************************************************************************************\nCluster 7\nPopular Movies ['The Nutcracker', 'Mutual Friends', 'Supercapitalist', 'Last I Heard', 'The Missing Person', 'Bella', \"There's Always Woodstock\", 'Me and Orson Welles', 'Center Stage', 'My Super Ex-Girlfriend']\n***********************************************************************************************************\nCluster 8\nPopular Movies ['Jurassic Park III', 'Hansel and Gretel Get Baked', '3 Ninjas Kick Back', 'Space Battleship Yamato', 'High Anxiety', 'Soldier', 'Ladyhawke', 'Meet Dave', 'Assault on Precinct 13', 'Star Trek: Nemesis']\n***********************************************************************************************************\nCluster 9\nPopular Movies ['The Singles Ward', 'The Fan', 'The Monkey King 2', 'The Art of War', 'Capricorn One', 'High Crimes', 'Doomsday', 'Planet 51', 'Outbreak', 'K-PAX']\n***********************************************************************************************************\nCluster 10\nPopular Movies ['This Is Martin Bonner', 'Blue Like Jazz', 'The Watcher', 'The Animal', 'Megamind', 'Iron Man 2']\n***********************************************************************************************************\n"
     ]
    }
   ],
   "source": [
    "# get key features and movies for each cluster\n",
    "for cluster_num in range(len(filtered_clusters)):\n",
    "    movies = movie_clusters[movie_clusters['ap_cluster'] == cluster_num]['title'] .values.tolist ()\n",
    "    print('Cluster '+str(cluster_num+1))\n",
    "    print('Popular Movies',movies)\n",
    "    print('*'*107)"
   ]
  },
  {
   "cell_type": "code",
   "execution_count": null,
   "metadata": {},
   "outputs": [],
   "source": []
  }
 ]
}